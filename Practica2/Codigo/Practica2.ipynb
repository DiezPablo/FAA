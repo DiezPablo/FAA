{
 "cells": [
  {
   "cell_type": "markdown",
   "metadata": {},
   "source": [
    "<h2>PRÁCTICA 2 - FUNDAMENTOS DE APRENDIZAJE AUTOMÁTICO</h1>\n",
    "<h3>Realizada la práctica por:<br/>\n",
    "    <ol>\n",
    "    - Pablo Díez del Pozo<br/>\n",
    "    - Alejandro Alcalá Álvarez<br/>\n",
    "   </ol>\n",
    " </h3>\n"
   ]
  },
  {
   "cell_type": "markdown",
   "metadata": {},
   "source": [
    "<h3>Código</h3>\n",
    "\n",
    "En las siguientes celdas se inserta todo el código desarrollado para poder completar el funcionamiento requerido de la práctica."
   ]
  },
  {
   "cell_type": "markdown",
   "metadata": {},
   "source": [
    "<p>La clase <b>Datos</b> es idéntica a la que desarrollamos para la <b>Práctica 0</b>, con dos funciones añadidas, muy importantes para el correcto funcionamiento de el clasificador de <b>Vecinos Próximos</b>. Estas funciones son las siguientes:</p>\n",
    "<ol> \n",
    "    <li><b>calcularMediasDesv(self, datos):</b> esta función permite calcular las medias y desviaciones típicas de cada uno de los atributos del dataset.3\n",
    "    <li><b>normalizarDatos(self, datos):</b> llama a la función anterior y utiliza los valores que hemos calculado para normalizar el dataset, únicamente los valores continuos, ya que los discretos no es necesario normalizarlos\n",
    "       "
   ]
  },
  {
   "cell_type": "code",
   "execution_count": 200,
   "metadata": {},
   "outputs": [],
   "source": [
    "import numpy as np\n",
    "\n",
    "class Datos:\n",
    "    TiposDeAtributos = ('Continuo', 'Nominal')\n",
    "\n",
    "    # TODO: procesar el fichero para asignar correctamente las variables tipoAtributos, nombreAtributos, nominalAtributos, datos y diccionarios\n",
    "    # NOTA: No confundir TiposDeAtributos con tipoAtributos\n",
    "    def __init__(self, nombreFichero):\n",
    "\n",
    "        with open(nombreFichero, \"r\") as f:\n",
    "            # Guardamos el numero de datos que contiene el DataSet y esta en la primera linea\n",
    "            self.numDatos = int(f.readline())\n",
    "\n",
    "            # Guardamos el nombre de los atributos\n",
    "            self.nombreAtributos = f.readline().strip('\\n').split(',')\n",
    "            # print(self.nombreAtributos)\n",
    "\n",
    "            # Leemos el tipo de los atributos de las variables y eliminamos el ultimo que es un salto de linea\n",
    "            self.tipoAtributos = f.readline().strip('\\n').split(',')\n",
    "            # print(self.tipoAtributos)\n",
    "\n",
    "            # Comprobamos que todos los atributos sean Continuos o Nominales\n",
    "            if any(atr not in Datos.TiposDeAtributos for atr in self.tipoAtributos):\n",
    "                raise ValueError(\"Tipo de atributo erroneo\")\n",
    "\n",
    "            # Segun el atributo, asignamos True o False.\n",
    "            self.nominalAtributos = []\n",
    "\n",
    "            # Guardamos en la lista nominalAtributos en la posicion de cada uno si es o no Nominal\n",
    "            for tipo in self.tipoAtributos:\n",
    "                if tipo == self.TiposDeAtributos[0]:\n",
    "                    self.nominalAtributos.append(False)\n",
    "                else:\n",
    "                    self.nominalAtributos.append(True)\n",
    "\n",
    "\n",
    "            # Guardamos los datos del fichero y los formateamos, de tal forma que cada linea es una lista\n",
    "            datos = f.readlines()\n",
    "            datosFormat = []\n",
    "            for lista in datos:\n",
    "                datosFormat.append(lista.strip('\\n').split(','))\n",
    "\n",
    "            listaDatosAtributos = []\n",
    "            for i in range(len(self.tipoAtributos)):\n",
    "                listaDatosAtributos.append([])\n",
    "\n",
    "            # Hacemos la traspuesta de los datos que guardamos para que cada lista de atributo guarde todos los datos\n",
    "            # de cada atributo.\n",
    "            for lista in datosFormat:\n",
    "                i = 0\n",
    "                for item in lista:\n",
    "                    listaDatosAtributos[i].append(item)\n",
    "                    i += 1\n",
    "\n",
    "            # Ordenamos y hacemos un set para eliminar repetidos.\n",
    "            i = 0\n",
    "            for item in listaDatosAtributos:\n",
    "                listaDatosAtributos[i] = sorted(set(item))\n",
    "                i += 1\n",
    "\n",
    "            # Creacion de lista diccionarios, en caso de que el atributo sea Continuo, el diccionario estara vacio\n",
    "            self.listaDicts = []\n",
    "            for i in range(len(self.tipoAtributos)):\n",
    "                self.listaDicts.append({})\n",
    "\n",
    "            # Creamos el diccionario tal y como se describe en las diapositivas, por orden y asignando valores numericos crecientes\n",
    "            i = 0\n",
    "            for atributo in listaDatosAtributos:\n",
    "                k = 0\n",
    "                if self.tipoAtributos[i] == \"Nominal\":\n",
    "                    for dato in atributo:\n",
    "                        self.listaDicts[i][dato] = k\n",
    "                        k += 1\n",
    "                i += 1\n",
    "\n",
    "            # Creacion de la matriz de datos utilizando el diccionario para mapear los valores\n",
    "            # En primer lugar, creamos una matriz vacia de tamaña numero de atributos.\n",
    "            self.datos = np.empty((int(self.numDatos), int(len(self.tipoAtributos))))\n",
    "            i = 0\n",
    "            j = 0\n",
    "\n",
    "            # Metemos los datos en la matriz, mapeando con los diccionarios en el caso de que sean Nominales, y si son continuos normal.\n",
    "            for i in range(int(self.numDatos)):\n",
    "                for j in range(len(self.tipoAtributos)):\n",
    "                    if self.tipoAtributos[j] == 'Nominal':\n",
    "                        self.datos[i][j] = self.listaDicts[j].get(str(datosFormat[i][j]))\n",
    "                    else:\n",
    "                        self.datos[i][j] = datosFormat[i][j]\n",
    "\n",
    "            f.close()\n",
    "\n",
    "    # TODO: implementar en la practica 1\n",
    "    def extraeDatos(self, idx):\n",
    "        return self.datos[idx]\n",
    "\n",
    "\n",
    "    def calcularMediasDesv(self,datos):\n",
    "\n",
    "        # datosTrain es la matriz directamente, no hay que extraer nada\n",
    "        # Se calcula la desv. tipica y la media para los atributos continuos\n",
    "\n",
    "        # Creamos una lista con los indices que son continuos para calcular la media y desv tipica sobre ellos.\n",
    "        self.indicesContinuos = []\n",
    "        for i in range(len(self.nominalAtributos)):\n",
    "            if self.nominalAtributos[i] == False:\n",
    "                self.indicesContinuos.append(i)\n",
    "\n",
    "        # Matriz que guarda el valor por atributo de la desv. tipica y la media\n",
    "        estadisticas = np.zeros((2,len(self.nominalAtributos)))\n",
    "\n",
    "        # Calculamos la desv tipica y media de los indices continuos sobre todos los datos que recibimos por param.\n",
    "        for i in self.indicesContinuos:\n",
    "            estadisticas[0,i] = np.mean(datos[:,i])\n",
    "            estadisticas[1,i] = np.std(datos[:,i])\n",
    "\n",
    "        return estadisticas\n",
    "\n",
    "\n",
    "    def normalizarDatos(self, datos):\n",
    "\n",
    "        estadisticas = self.calcularMediasDesv(datos)\n",
    "\n",
    "        # Normalizamos los datos\n",
    "        for i in self.indicesContinuos:\n",
    "            datos[:,i] -= estadisticas[0,i]\n",
    "            datos[:,i] /= estadisticas[1,i]\n",
    "\n",
    "        return datos, estadisticas"
   ]
  },
  {
   "cell_type": "markdown",
   "metadata": {},
   "source": [
    "La siguiente clase, <b>EstrategiaParticionado</b>, es exactamente igual que en la práctica anterior:"
   ]
  },
  {
   "cell_type": "code",
   "execution_count": 201,
   "metadata": {},
   "outputs": [],
   "source": [
    "from abc import ABCMeta,abstractmethod\n",
    "\n",
    "from abc import ABCMeta, abstractmethod\n",
    "import numpy as np\n",
    "\n",
    "\n",
    "class Particion():\n",
    "\n",
    "  # Esta clase mantiene la lista de �ndices de Train y Test para cada partici�n del conjunto de particiones\n",
    "  def __init__(self, train=[], test=[]):\n",
    "    self.indicesTrain = train\n",
    "    self.indicesTest = test\n",
    "\n",
    "  def __str__(self):\n",
    "    return \"Train: {}\\nTest:  {}\".format(str(self.indicesTrain), str(self.indicesTest))\n",
    "\n",
    "\n",
    "class EstrategiaParticionado:\n",
    "  # Clase abstracta\n",
    "  __metaclass__ = ABCMeta\n",
    "\n",
    "  # Lista de las particiones\n",
    "  def __init__(self, nombre=\"\"):\n",
    "    self.nombreEstrategia = nombre\n",
    "    self.numeroParticiones = 0\n",
    "    self.particiones = []\n",
    "\n",
    "  # Atributos: deben rellenarse adecuadamente para cada estrategia concreta: nombreEstrategia, numeroParticiones, listaParticiones. Se pasan en el constructor\n",
    "\n",
    "  @abstractmethod\n",
    "  # TODO: esta funcion deben ser implementadas en cada estrategia concreta\n",
    "  def creaParticiones(self, datos, seed=None):\n",
    "    pass\n",
    "\n",
    "\n",
    "class ValidacionSimple(EstrategiaParticionado):\n",
    "\n",
    "  def __init__(self, porcentaje):\n",
    "    self.porcentaje = porcentaje\n",
    "    super().__init__(\"Validacion simple\")\n",
    "\n",
    "  # Crea particiones segun el metodo tradicional de division de los datos segun el porcentaje deseado.\n",
    "  # Devuelve una lista de particiones (clase Particion)\n",
    "  # TODO: implementar\n",
    "  def creaParticiones(self, datos, seed=None):\n",
    "    np.random.seed(seed)\n",
    "    self.numeroParticiones = 1\n",
    "\n",
    "    # Generamos una lista con todos los números de datos aleatorios\n",
    "    indicesAleatorios = np.random.permutation(int(datos.numDatos))\n",
    "\n",
    "    # Creamos la particion, en funcion del porcentaje especificado\n",
    "    self.particiones = [Particion(indicesAleatorios[:int(datos.numDatos * self.porcentaje)],\n",
    "                                  indicesAleatorios[int(datos.numDatos * self.porcentaje):])]\n",
    "\n",
    "    return self.particiones\n",
    "\n",
    "\n",
    "class ValidacionCruzada(EstrategiaParticionado):\n",
    "\n",
    "  # Crea particiones segun el metodo de validacion cruzada.\n",
    "  # El conjunto de entrenamiento se crea con las nfolds-1 particiones y el de test con la particion restante\n",
    "  # Esta funcion devuelve una lista de particiones (clase Particion)\n",
    "  # TODO: implementar\n",
    "\n",
    "  def __init__(self, k):\n",
    "    self.k = k\n",
    "    super().__init__(\"Validacion cruzada\")\n",
    "\n",
    "  def creaParticiones(self, datos, seed=None):\n",
    "\n",
    "    np.random.seed(seed)\n",
    "\n",
    "    self.numeroParticiones = self.k\n",
    "\n",
    "    # Generamos una lista con todos los números de datos aleatorios\n",
    "    indicesAleatorios = np.random.permutation(int(datos.numDatos))\n",
    "\n",
    "    # Hallamos el tamaño de cada bloque\n",
    "    tamBloque = int(datos.numDatos / self.k)\n",
    "\n",
    "    datosSobran = datos.numDatos - (tamBloque * self.k)\n",
    "    count = 0\n",
    "    for i in range(self.k):\n",
    "\n",
    "      train = np.delete(indicesAleatorios, range(i * tamBloque, (i + 1) * tamBloque))\n",
    "      test = indicesAleatorios[i * tamBloque:(i + 1) * tamBloque]\n",
    "\n",
    "      # Caso en el que la cuenta es justa\n",
    "      if datosSobran == 0:\n",
    "        self.particiones.append(Particion(train, test))\n",
    "\n",
    "      # Contemplamos el caso de que la division para sacar el numero de subconjuntos no fuese entera\n",
    "      if datosSobran > 0:\n",
    "        count += 1\n",
    "        particionTest = np.append(test, train[(datos.numDatos - tamBloque) - i - 1])\n",
    "        particionTrain = np.delete(train, (datos.numDatos - tamBloque) - i - 1)\n",
    "        datosSobran -= 1\n",
    "        self.particiones.append(Particion(particionTrain, particionTest))"
   ]
  },
  {
   "cell_type": "markdown",
   "metadata": {},
   "source": [
    "A continuación, tenemos la clase <b>Clasificador</b>, junto con <b>ClasificadorNaiveBayes</b>, idénticas a las de la práctica 1:"
   ]
  },
  {
   "cell_type": "code",
   "execution_count": 202,
   "metadata": {},
   "outputs": [],
   "source": [
    "from abc import ABCMeta,abstractmethod\n",
    "import numpy as np\n",
    "import math\n",
    "from collections import Counter\n",
    "from sortedcontainers import SortedDict\n",
    "from sklearn.metrics import confusion_matrix\n",
    "from matplotlib import pyplot as plt\n",
    "from numpy import linalg as LA\n",
    "from statistics import mode\n",
    "\n",
    "class Clasificador:\n",
    "  # Clase abstracta\n",
    "  __metaclass__ = ABCMeta\n",
    "\n",
    "  # Metodos abstractos que se implementan en casa clasificador concreto\n",
    "  @abstractmethod\n",
    "  # TODO: esta funcion debe ser implementada en cada clasificador concreto\n",
    "  # datosTrain: matriz numpy con los datos de entrenamiento\n",
    "  # atributosDiscretos: array bool con la indicatriz de los atributos nominales\n",
    "  # diccionario: array de diccionarios de la estructura Datos utilizados para la codificacion de variables discretas\n",
    "  def entrenamiento(self, datos, datosTrain, atributosDiscretos, diccionario):\n",
    "    pass\n",
    "\n",
    "  @abstractmethod\n",
    "  # TODO: esta funcion debe ser implementada en cada clasificador concreto\n",
    "  # devuelve un numpy array con las predicciones\n",
    "  def clasifica(self, datosTest, atributosDiscretos, diccionario):\n",
    "    pass\n",
    "\n",
    "  # Obtiene el numero de aciertos y errores para calcular la tasa de fallo\n",
    "  # TODO: implementar\n",
    "  def error(self, datos, pred):\n",
    "    # Aqui se compara la prediccion (pred) con las clases reales y se calcula el error\n",
    "    i = 0\n",
    "    real = datos[:, -1]\n",
    "    error = 0\n",
    "    for i in range(len(real)):\n",
    "      if real[i] != pred[i]:\n",
    "        error += 1\n",
    "    err = (error) / (len(real) + 0.0)\n",
    "    return err\n",
    "\n",
    "  # Realiza una clasificacion utilizando una estrategia de particionado determinada\n",
    "  # particionado : estrategia de validacion que queremos utilizar\n",
    "  # dataset : clase de tipo Datos que utilizamos para entrenar y clasificar el modelo\n",
    "  # clasificador: instancia del clasificador que se va a usar\n",
    "  # TODO: implementar esta funcion\n",
    "  def validacion(self, particionado, dataset, clasificador, seed: object = None):\n",
    "\n",
    "    # Creamos las particiones siguiendo la estrategia llamando a particionado.creaParticiones\n",
    "    # - Para validacion cruzada: en el bucle hasta nv entrenamos el clasificador con la particion de train i\n",
    "    # y obtenemos el error en la particion de test i\n",
    "    # - Para validacion simple (hold-out): entrenamos el clasificador con la particion de train\n",
    "    # y obtenemos el error en la particion test. Otra opci�n es repetir la validaci�n simple un n�mero especificado de veces, obteniendo en cada una un error. Finalmente se calcular�a la media.\n",
    "    errores = 0\n",
    "    # particionado.creaParticiones(dataset, seed)\n",
    "    # Comprobamos si es por validación cruzada o simple, por la longitud de la lista de particiones\n",
    "    particionado.particiones = []\n",
    "    particionado.creaParticiones(dataset)\n",
    "\n",
    "    # Validación Simple\n",
    "    if len(particionado.particiones) == 1:\n",
    "      clasificador.entrenamiento(dataset, particionado.particiones[0].indicesTrain)\n",
    "      pred = clasificador.clasifica(dataset.datos, particionado.particiones[0].indicesTest)\n",
    "      ret = self.error(dataset.extraeDatos(particionado.particiones[0].indicesTest), pred)\n",
    "      if ret > 0:\n",
    "        return ret\n",
    "      else:\n",
    "        return 0\n",
    "\n",
    "    # Validación Cruzada\n",
    "    else:\n",
    "      lista_error = []\n",
    "      for particion in particionado.particiones:\n",
    "        clasificador.entrenamiento(dataset, particion.indicesTrain)\n",
    "        pred = clasificador.clasifica(dataset.datos, particion.indicesTest)\n",
    "        ret = self.error(dataset.extraeDatos(particion.indicesTest), pred)\n",
    "        lista_error.append(ret)\n",
    "      return np.mean(lista_error), np.std(lista_error)\n",
    "\n",
    "  def matrizConfusion(self, dataset, datosTest, prediccion):\n",
    "\n",
    "    # Calculamos la matriz de confusion utlizando sk-learn. Solo se calcula en el caso de que la clasificacion sea binaria.\n",
    "    testData = dataset.extraeDatos(datosTest)\n",
    "    clase_real = testData[:, -1]\n",
    "\n",
    "    matriz = confusion_matrix(prediccion, clase_real)\n",
    "\n",
    "    # La funcion ravel() devuelve todas las estadisticas relacionadas con la matriz de confusion\n",
    "    tn, fp, fn, tp = matriz.ravel()\n",
    "\n",
    "    # Calculamos las tasas extraídas de la matriz de confusión\n",
    "    tpr = tp / (tp + fn)\n",
    "    fpr = fp / (fp + fn)\n",
    "\n",
    "    self.lista_tpr.append(tpr)\n",
    "    self.lista_fpr.append(fpr)\n",
    "\n",
    "    return matriz\n",
    "\n",
    "  def curvaROC(self):\n",
    "\n",
    "    x = np.linspace(0, 1, 100)\n",
    "    plt.plot(x, x, c='blue')\n",
    "    for i in range(len(self.lista_fpr)):\n",
    "      plt.plot(self.lista_fpr[i], self.lista_tpr[i], 'ro')\n",
    "    plt.show()\n",
    "\n",
    "class ClasificadorNaiveBayes(Clasificador):\n",
    "\n",
    "  def __init__(self, laplace):\n",
    "    self.laplace = laplace\n",
    "    self.lista_fpr = []\n",
    "    self.lista_tpr = []\n",
    "\n",
    "  def entrenamiento(self, dataset, datosTrain):\n",
    "\n",
    "    # Cargamos todos los datos de la clase del dataset desde la matriz de datos\n",
    "    clasesTrain = dataset.extraeDatos(datosTrain)\n",
    "    self.numClases = clasesTrain[:, -1]\n",
    "\n",
    "    # Contamos las apariciones de cada uno para luego calcular la probabilidad a priori de cada clase\n",
    "    counter = Counter(self.numClases)\n",
    "\n",
    "    # Calculamos la probabilidad de la clase y lo metemos en un diccionario ordenado segun el numero\n",
    "    # correspondiente a cada clase asignado en el diccionario\n",
    "    self.dictPrioris = {}\n",
    "    for k in counter:\n",
    "      k = int(k)\n",
    "      counter[k] = counter[k] / len(self.numClases)\n",
    "      self.dictPrioris[k] = counter[k]\n",
    "\n",
    "    # Aqui ordenamos el diccionario para que esten en el mismo orden de como extraemos los datos del dataset\n",
    "    self.dictPrioris = SortedDict(self.dictPrioris)\n",
    "\n",
    "    # Calcular tablas de probabilidades del entrenamiento. Tenemos que calcular por cada atributo una cuenta\n",
    "    # de las apariciones en cada clase\n",
    "    # Creamos una lista de matrices, donde vamos almacenar todos los datos que hemos obtenido en los datos de Test\n",
    "    self.posteriori = np.zeros(len(dataset.nombreAtributos) - 1, dtype=object)\n",
    "\n",
    "    # Recorremos todos los datos de la matriz sin llegar a la clase\n",
    "    for i in range(len(dataset.nombreAtributos) - 1):\n",
    "\n",
    "      # Si el dato que obtenemos es Nominal haremos el recuento de todas las veces que sale la P(D|H)\n",
    "      if dataset.nominalAtributos[i] == True:\n",
    "\n",
    "        # Creamos una matriz de tamaño X: Número de Atributos menos la clase Y: Número de clases\n",
    "        post = np.zeros((len(dataset.listaDicts[i]), len(dataset.listaDicts[-1])))\n",
    "\n",
    "        # Aqui contamos todos las datos que queremos del datos Train para construir la matriz de entrenamiento\n",
    "        for c in range(len(dataset.listaDicts[-1])):\n",
    "          datosEnt = dataset.extraeDatos(datosTrain)\n",
    "          dat = datosEnt[:, i]\n",
    "          repes = Counter(dat[datosEnt[:, -1] == c])\n",
    "          for r in repes:\n",
    "            post[int(r), c] = repes[r]\n",
    "          if self.laplace == True:\n",
    "            self.posteriori[i] = post + 1\n",
    "          else:\n",
    "            self.posteriori[i] = post\n",
    "\n",
    "      # Si el dato es Continuo obtendremos la media y la desviación tipica de la clase\n",
    "      else:\n",
    "\n",
    "        # Creamos una matriz de X: Los datos de Media y Desivación típica Y: Número de clases\n",
    "        post = np.zeros((2, len(dataset.listaDicts[-1])))\n",
    "\n",
    "        # Aqui obtenemos la media y desviación tipica de cada clase, despues de tener los datos de entrenamiento\n",
    "        for c in range(len(dataset.listaDicts[-1])):\n",
    "          datosEnt = dataset.extraeDatos(datosTrain)\n",
    "          dat = datosEnt[:, i]\n",
    "          datos = dat[datosEnt[:, -1] == c]\n",
    "          post[0][c] = np.mean(datos)\n",
    "          post[1][c] = np.std(datos)\n",
    "        self.posteriori[i] = post\n",
    "\n",
    "\n",
    "    # Calculamos los valores de los posteriori de todos las tablas anteriores\n",
    "    for i in range(len(dataset.listaDicts) - 1):\n",
    "      if dataset.nominalAtributos[i] == True:\n",
    "        self.posteriori[i] /= sum(self.posteriori[i])\n",
    "\n",
    "  def clasifica(self, dataset, datosTest):\n",
    "    acum_probs = 1\n",
    "    self.prediccion = []\n",
    "    datTest = dataset[datosTest]\n",
    "\n",
    "    # Ahora vamos a estudiar la probabilidad de la clase con los datos obtenidos en el entrenamiento\n",
    "    # Recorremos todos las datos de la matriz de los datos Test\n",
    "    for dato in datTest:\n",
    "      mapa = []\n",
    "      # Aqui obtenemos los prioris de cada clase para poder obtener la probabilidad de cada una\n",
    "      for clase in range(len(self.dictPrioris)):\n",
    "        listaVerosimilitudes = []\n",
    "        # Aqui obtenemos cada valor posteriori de nuestro entrenamiento de los datos, es decir, P(D|H)\n",
    "        for atributo in range(len(self.posteriori)):\n",
    "          if dataset.nominalAtributos[atributo] == True:\n",
    "            prob = self.posteriori[atributo][int(dato[atributo])][clase]\n",
    "            listaVerosimilitudes.append(prob)\n",
    "\n",
    "          # Aqui obtenemos la probabilidad de los atibutos continuos\n",
    "          else:\n",
    "            # Hacemos la formula de la distribucion normal\n",
    "            exp1 = 1 / (self.posteriori[atributo][1][clase] * math.sqrt(2 * math.pi))\n",
    "            exp2 = np.power((dato[atributo] - self.posteriori[atributo][0][clase]), 2)\n",
    "            exp3 = np.power(self.posteriori[atributo][1][clase], 2)\n",
    "            exp4 = exp2 / exp3\n",
    "            exp4 = math.exp((-1 / 2) * exp4)\n",
    "            prob = exp1 * exp4\n",
    "            listaVerosimilitudes.append(prob)\n",
    "\n",
    "        for verosimilitud in listaVerosimilitudes:\n",
    "          acum_probs *= verosimilitud\n",
    "        acum_probs *= self.dictPrioris.get(clase)\n",
    "        mapa.append(acum_probs)\n",
    "        acum_probs = 1\n",
    "\n",
    "      # Aqui obtenemos la predicción de mayor probabilidad y la guardamos en nuestra lista de predicciones\n",
    "      self.prediccion.append(np.argmax(mapa))\n",
    "\n",
    "\n",
    "    # Devolvemos la lista con la predicción de nuestro clasifica\n",
    "    return self.prediccion"
   ]
  },
  {
   "cell_type": "markdown",
   "metadata": {},
   "source": [
    "En las siguientes celdas aparecen las clases <b>ClasificadorVecinosProximos</b> y <b>ClasificadorRegresionLogistica</b>, ambas necesarias para la funcionalidad requerida en esta práctica.\n",
    "\n",
    "La clase <b>ClasificadorVecinosProximos</b> recibe como parámetros en su constructor tanto el valor de <b>K</b>y si se quiere normalizar el dataset o no, por defecto la normalización está activada. El método <b>entrenamiento()</b>, normaliza el dataset si tenemos esa opción a True y guarda los datos de entrenamiento. En el caso de que no queremos normalizar, simplemente guarda los datos de entrenamiento. El método <b>clasifica()</b> implementa el algoritmo de <b>Vecinos Próximos</b>, calculando las distancias de los datos de Test con todos los datos de Train y quedandose con la clase mayoritaría de los k elementos con menor distancia, para cada dato del conjunto de Test. Todo lo anterior genera una lista con las clases predichas, que es lo que devuelve la función.\n",
    "\n",
    "La clase <b>ClasificadorRegresionLogistica</b> se inicializa con dos parámetros, la <b>Constante de Aprendizaje</b>, que se utiliza para actualizar la función de pesos del método <b>entrenamiento()</b>, y el <b>número de épocas</b>. Además, cuenta con una función auxiliar <b>sigmoidal()</b> que ejecuta la sigmoidal del valor dado por el producto escalar de la función de pesos <b>(w)</b> y el vector compuesto por el dato de entrenamiento <b>(x)</b> en el que nos encontramos. La función <b>entrenamiento()</b> utiliza el algoritmo de la Regresión Logistica hasta el número de épocas definido, obteniendo el vector de pesos final, que posteriormente se utiliza en <b>clasifica()</b>, que genera una predicción para cada dato del test, aplicando la sigmoidal del dato multiplicado por el vector de pesos final que obtenemos al entrenar el modelo, si se obtiene un valor mayor de 0.5 el dato es de clase 1, si no de clase 2. \n",
    "\n",
    "<h4>Particularidades Vecinos Próximos</h4>\n",
    "\n",
    "No hemos realizado distinción entre el caso de que el atributo sea discreto o continuo para calcular las distancias, ya que nuestra idea era utilizar distancia Euclídea en el caso de los continuos y distancia Manhattan en el caso de los discretos, pero como codificamos el dataset previamente en formato numérico, esas distancias no se ven afectadas realizando la distinción, ya que son proporcionales.\n",
    "\n",
    "El caso en el que el atributo tiene un orden natural, como el que se describe en el enunciado con el caso de los meses, también lo hemos obviado, ya que la codificación del dataset a numéricos resuelve este problema. Por ejemplo, el orden natural de los meses, en nuestro sería del 0 al 11 y en nuestro caso codificamos los meses según esa notación. El único posible problema es que se codifican en orden de lectura, es decir, si aparece primero Noviembre y luego Junio, esos serían el 0 y el 1. Esta situación no es ningún problema, ya que las distancias se mantienen costantes en todos los casos para ese nuevo orden, siendo proporcionales en todos los casos"
   ]
  },
  {
   "cell_type": "code",
   "execution_count": 203,
   "metadata": {},
   "outputs": [],
   "source": [
    "class ClasificadorVecinosProximos(Clasificador):\n",
    "\n",
    "  def __init__(self, k, normaliza = True):\n",
    "\n",
    "    # k define el numero de vecinos y normaliza si queremos normalizar los datos o no.\n",
    "    self.k = k\n",
    "    self.normaliza = normaliza\n",
    "    self.lista_fpr = []\n",
    "    self.lista_tpr = []\n",
    "    super().__init__()\n",
    "\n",
    "  def entrenamiento(self, dataset, datosTrain):\n",
    "\n",
    "    # Normalizar los datos en caso de que la variable sea True\n",
    "    if self.normaliza == True:\n",
    "      self.datosClasifica, _ = dataset.normalizarDatos(dataset.datos)\n",
    "    else:\n",
    "      self.datosClasifica = dataset.datos\n",
    "\n",
    "    # Datos de train\n",
    "    self.datTrain = self.datosClasifica[datosTrain]\n",
    "\n",
    "    return self.datTrain\n",
    "\n",
    "  def clasifica(self, dataset, datosTest = None):\n",
    "\n",
    "    if datosTest is None:\n",
    "      datTest = dataset[range(len(dataset))]\n",
    "    else:\n",
    "      datTest = self.datosClasifica[datosTest]\n",
    "\n",
    "    prediccion = []\n",
    "\n",
    "    # Cogemos cada ejemplo en datosTest para calcular la distancia a cada uno de los ejemplos de Train\n",
    "    for datoTest in datTest[:, :-1]:\n",
    "      distancias = []\n",
    "      for datoTrain in self.datTrain[:, :-1]:\n",
    "        sumatorio_dist_euclideas = 0\n",
    "        for i in range(len(datoTest)):\n",
    "          sumatorio_dist_euclideas += LA.linalg.norm(datoTest[i] - datoTrain[i])\n",
    "        distancias.append(sumatorio_dist_euclideas)\n",
    "\n",
    "      k_datos = self.datTrain[np.argsort(distancias)[:self.k]]\n",
    "      prediccion.append(mode(k_datos[:,-1]))\n",
    "\n",
    "    return prediccion"
   ]
  },
  {
   "cell_type": "code",
   "execution_count": 204,
   "metadata": {},
   "outputs": [],
   "source": [
    "# Clase que define un clasificador utilizando el metodo de Regresion Logistica\n",
    "class ClasificadorRegresionLogistica(Clasificador):\n",
    "\n",
    "  def __init__(self, constante_aprendizaje, epocas):\n",
    "    # Se utiliza para inicializar la constante de aprendizaje y el numero de epocas necesarias para el train\n",
    "    self.constante_aprendizaje = constante_aprendizaje\n",
    "    self.epocas = epocas\n",
    "    self.lista_fpr = []\n",
    "    self.lista_tpr = []\n",
    "    super().__init__()\n",
    "\n",
    "  # Funcion que realiza el calculo de la sigmoidal de el numero que recibe por parámetro\n",
    "  def sigmoidal(self, a):\n",
    "\n",
    "    if a >= 100:\n",
    "      return 1\n",
    "    elif a <= -100:\n",
    "      return 0\n",
    "    else:\n",
    "      return 1.0 / (1.0 + math.exp(-a))\n",
    "\n",
    "  def entrenamiento(self, dataset, datosTrain):\n",
    "\n",
    "    # Datos de entrenamiento\n",
    "    self.datTrain = dataset.extraeDatos(datosTrain)\n",
    "\n",
    "    # Inicializamos el vector w\n",
    "    self.vector_w = np.random.uniform(low=-0.5, high=0.5, size=len(dataset.tipoAtributos))\n",
    "\n",
    "    i = 0\n",
    "\n",
    "    # Algoritmo del entrenamiento de regresion lineal\n",
    "    while i < self.epocas:\n",
    "      for dato in self.datTrain:\n",
    "\n",
    "        # Calculamos vector x\n",
    "        x = np.append([1],dato[:-1])\n",
    "\n",
    "        # Calculamos w.x\n",
    "        wx = np.dot(self.vector_w,x)\n",
    "\n",
    "        # Sigmoidal de w.x\n",
    "        sigmoidal = self.sigmoidal(wx)\n",
    "\n",
    "        # Actualizamos el vector w\n",
    "        self.vector_w = self.vector_w - (np.dot(self.constante_aprendizaje * (sigmoidal - dato[-1]),x))\n",
    "\n",
    "      i += 1\n",
    "\n",
    "    return self.vector_w\n",
    "\n",
    "  def clasifica(self, dataset, datosTest = None):\n",
    "\n",
    "    if datosTest is None:\n",
    "      datosTest = range(len(dataset))\n",
    "\n",
    "    datTest = dataset[datosTest]\n",
    "    prediccion = []\n",
    "\n",
    "    for dato in datTest:\n",
    "\n",
    "      # Vector x\n",
    "      x= np.append([1], dato[:-1])\n",
    "\n",
    "      # Calculo de la sigmoidal que nos da la probabilidad de que el dato sea de clase 1\n",
    "      wx = np.dot(self.vector_w, x)\n",
    "      sigmoidal = self.sigmoidal(wx)\n",
    "\n",
    "      # Prediccion del clasificador\n",
    "      if(sigmoidal >= 0.5):\n",
    "        prediccion.append(1)\n",
    "      else:\n",
    "        prediccion.append(0)\n",
    "\n",
    "    return prediccion"
   ]
  },
  {
   "cell_type": "markdown",
   "metadata": {},
   "source": [
    "Una vez explicadas las clases creadas, generamos los datasets y las particiones que vamos a utilizar para la extracción de resultados de los mismos."
   ]
  },
  {
   "cell_type": "code",
   "execution_count": 205,
   "metadata": {},
   "outputs": [],
   "source": [
    "# Cargamos todos los datasets\n",
    "\n",
    "dataset_example1 =Datos('../Datasets/example1.data')\n",
    "dataset_example2 =Datos('../Datasets/example2.data')\n",
    "dataset_example3 =Datos('../Datasets/example3.data')\n",
    "dataset_example4 = Datos('../Datasets/example4.data')\n",
    "dataset_online = Datos('../Datasets/online_shoppers.data')\n",
    "dataset_wdbc = Datos('../Datasets/wdbc.data')"
   ]
  },
  {
   "cell_type": "code",
   "execution_count": 206,
   "metadata": {},
   "outputs": [],
   "source": [
    "# Validacion simple\n",
    "\n",
    "VS_example1 = ValidacionSimple(0.7)\n",
    "VS_example2 = ValidacionSimple(0.7)\n",
    "VS_example3 = ValidacionSimple(0.7)\n",
    "VS_example4 = ValidacionSimple(0.7)\n",
    "VS_online = ValidacionSimple(0.7)\n",
    "VS_wdbc = ValidacionSimple(0.7)\n",
    "\n",
    "VS_example1.creaParticiones(dataset_example1)\n",
    "VS_example2.creaParticiones(dataset_example2)\n",
    "VS_example3.creaParticiones(dataset_example3)\n",
    "VS_example4.creaParticiones(dataset_example4)\n",
    "VS_online.creaParticiones(dataset_online)\n",
    "VS_wdbc.creaParticiones(dataset_wdbc)\n",
    "\n",
    "VC_example1 = ValidacionCruzada(5)\n",
    "VC_example2 = ValidacionCruzada(5)\n",
    "VC_example3 = ValidacionCruzada(5)\n",
    "VC_example4 = ValidacionCruzada(5)\n",
    "VC_online = ValidacionCruzada(5)\n",
    "VC_wdbc = ValidacionCruzada(5)"
   ]
  },
  {
   "cell_type": "markdown",
   "metadata": {},
   "source": [
    "<h3>Apartado 1</h3>\n",
    "\n",
    "En este apartado se detallan los resultados obtenidos utlizando la implementación propia de <b>Vecinos Próximos</b>, tanto normalizando los datos como sin hacerlo. Se recoge una tabla que muestra el rendimiento para los datasets de <b>wdbc.data</b> y <b>online_shoppers.data</b>.\n",
    "\n",
    "En el caso del dataset <b>online_shoppers.data</b> solamente hemos utilizado validación simple, ya que tardaba mucho en ejecutarse, en el caso de <b>wdbc.data</b> si se ha utilizado tanto la validación simple como la cruzada, para observarlas diferencias."
   ]
  },
  {
   "cell_type": "markdown",
   "metadata": {},
   "source": [
    "<h4>Ejecuciones con Validación Simple, Dataset Normalizado y Online_Shoppers.data</h4>\n",
    "\n",
    "No utilizamos la función de validación para tener la lista de predicciones y poder utilizarla para las curvas ROC, ya que tarda mucho la ejecución."
   ]
  },
  {
   "cell_type": "code",
   "execution_count": 207,
   "metadata": {},
   "outputs": [
    {
     "name": "stdout",
     "output_type": "stream",
     "text": [
      "-- Validacion simple -- Dataset Online_Shoppers -- K: 1 -- Error:  0.1543660448769938\n"
     ]
    }
   ],
   "source": [
    "knn = ClasificadorVecinosProximos(1)\n",
    "knn.entrenamiento(dataset_online, VS_online.particiones[0].indicesTrain)\n",
    "pred1 = knn.clasifica(dataset_online.datos,VS_online.particiones[0].indicesTest)\n",
    "error1 = knn.error(dataset_online.extraeDatos(VS_online.particiones[0].indicesTest), pred1)\n",
    "\n",
    "print(\"-- Validacion simple -- Dataset Online_Shoppers -- K: 1 -- Error: \",error1)"
   ]
  },
  {
   "cell_type": "code",
   "execution_count": 208,
   "metadata": {},
   "outputs": [
    {
     "name": "stdout",
     "output_type": "stream",
     "text": [
      "-- Validacion simple -- Dataset Online_Shoppers -- K: 3 -- Error:  0.1543660448769938\n"
     ]
    }
   ],
   "source": [
    "knn = ClasificadorVecinosProximos(3)\n",
    "knn.entrenamiento(dataset_online, VS_online.particiones[0].indicesTrain)\n",
    "pred3 = knn.clasifica(dataset_online.datos,VS_online.particiones[0].indicesTest)\n",
    "error3 = knn.error(dataset_online.extraeDatos(VS_online.particiones[0].indicesTest), pred1)\n",
    "\n",
    "print(\"-- Validacion simple -- Dataset Online_Shoppers -- K: 3 -- Error: \",error3)"
   ]
  },
  {
   "cell_type": "code",
   "execution_count": 209,
   "metadata": {},
   "outputs": [
    {
     "name": "stdout",
     "output_type": "stream",
     "text": [
      "-- Validacion simple -- Dataset Online_Shoppers -- K: 5 -- Error:  0.1543660448769938\n"
     ]
    }
   ],
   "source": [
    "knn = ClasificadorVecinosProximos(5)\n",
    "knn.entrenamiento(dataset_online, VS_online.particiones[0].indicesTrain)\n",
    "pred5 = knn.clasifica(dataset_online.datos,VS_online.particiones[0].indicesTest)\n",
    "error5 = knn.error(dataset_online.extraeDatos(VS_online.particiones[0].indicesTest), pred1)\n",
    "\n",
    "print(\"-- Validacion simple -- Dataset Online_Shoppers -- K: 5 -- Error: \",error5)"
   ]
  },
  {
   "cell_type": "code",
   "execution_count": 210,
   "metadata": {},
   "outputs": [
    {
     "name": "stdout",
     "output_type": "stream",
     "text": [
      "-- Validacion simple -- Dataset Online_Shoppers -- K: 11 -- Error:  0.1543660448769938\n"
     ]
    }
   ],
   "source": [
    "knn = ClasificadorVecinosProximos(11)\n",
    "knn.entrenamiento(dataset_online, VS_online.particiones[0].indicesTrain)\n",
    "pred11 = knn.clasifica(dataset_online.datos,VS_online.particiones[0].indicesTest)\n",
    "error11 = knn.error(dataset_online.extraeDatos(VS_online.particiones[0].indicesTest), pred1)\n",
    "\n",
    "print(\"-- Validacion simple -- Dataset Online_Shoppers -- K: 11 -- Error: \",error11)"
   ]
  },
  {
   "cell_type": "markdown",
   "metadata": {},
   "source": [
    "<h4>Ejecuciones con Validación Simple, Dataset sin normalizar y Online_Shoppers.data</h4>\n",
    "\n",
    "Solo una ejecución ya que es muy costoso"
   ]
  },
  {
   "cell_type": "code",
   "execution_count": 211,
   "metadata": {},
   "outputs": [
    {
     "name": "stdout",
     "output_type": "stream",
     "text": [
      "-- Validacion simple -- Dataset Online_Shoppers -- K: 11 -- Error:  0.1543660448769938\n"
     ]
    }
   ],
   "source": [
    "knn = ClasificadorVecinosProximos(11, False)\n",
    "knn.entrenamiento(dataset_online, VS_online.particiones[0].indicesTrain)\n",
    "pred11_sin_norm = knn.clasifica(dataset_online.datos,VS_online.particiones[0].indicesTest)\n",
    "error11_sin_norm = knn.error(dataset_online.extraeDatos(VS_online.particiones[0].indicesTest), pred1)\n",
    "\n",
    "print(\"-- Validacion simple -- Dataset Online_Shoppers -- K: 11 -- Error: \",error11)"
   ]
  },
  {
   "cell_type": "markdown",
   "metadata": {},
   "source": [
    "<h4>Ejecuciones con Validación Simple, Dataset Normalizado y WDBC.data</h4>"
   ]
  },
  {
   "cell_type": "code",
   "execution_count": 212,
   "metadata": {},
   "outputs": [
    {
     "name": "stdout",
     "output_type": "stream",
     "text": [
      "-- Validacion simple -- Dataset WDBC -- K: 1 -- Error:  0.023391812865497075\n"
     ]
    }
   ],
   "source": [
    "knn = ClasificadorVecinosProximos(1)\n",
    "error = knn.validacion(VS_wdbc, dataset_wdbc, knn)\n",
    "\n",
    "print(\"-- Validacion simple -- Dataset WDBC -- K: 1 -- Error: \",error)"
   ]
  },
  {
   "cell_type": "code",
   "execution_count": 213,
   "metadata": {},
   "outputs": [
    {
     "name": "stdout",
     "output_type": "stream",
     "text": [
      "-- Validacion simple -- Dataset WDBC -- K: 3 -- Error:  0.04093567251461988\n"
     ]
    }
   ],
   "source": [
    "knn = ClasificadorVecinosProximos(3)\n",
    "error = knn.validacion(VS_wdbc, dataset_wdbc, knn)\n",
    "\n",
    "print(\"-- Validacion simple -- Dataset WDBC -- K: 3 -- Error: \",error)"
   ]
  },
  {
   "cell_type": "code",
   "execution_count": 214,
   "metadata": {},
   "outputs": [
    {
     "name": "stdout",
     "output_type": "stream",
     "text": [
      "-- Validacion simple -- Dataset WDBC -- K: 5 -- Error:  0.017543859649122806\n"
     ]
    }
   ],
   "source": [
    "knn = ClasificadorVecinosProximos(5)\n",
    "error = knn.validacion(VS_wdbc, dataset_wdbc, knn)\n",
    "\n",
    "print(\"-- Validacion simple -- Dataset WDBC -- K: 5 -- Error: \",error)"
   ]
  },
  {
   "cell_type": "code",
   "execution_count": 215,
   "metadata": {},
   "outputs": [
    {
     "name": "stdout",
     "output_type": "stream",
     "text": [
      "-- Validacion simple -- Dataset WDBC -- K: 11 -- Error:  0.03508771929824561\n"
     ]
    }
   ],
   "source": [
    "knn = ClasificadorVecinosProximos(11)\n",
    "error = knn.validacion(VS_wdbc, dataset_wdbc, knn)\n",
    "\n",
    "print(\"-- Validacion simple -- Dataset WDBC -- K: 11 -- Error: \",error)"
   ]
  },
  {
   "cell_type": "markdown",
   "metadata": {},
   "source": [
    "<h4>Ejecuciones con Validación Simple, Dataset sin normalizar y WDBC.data</h4>"
   ]
  },
  {
   "cell_type": "code",
   "execution_count": 216,
   "metadata": {},
   "outputs": [
    {
     "name": "stdout",
     "output_type": "stream",
     "text": [
      "-- Validacion simple -- Dataset WDBC -- K: 1 -- Error:  0.04678362573099415\n"
     ]
    }
   ],
   "source": [
    "knn = ClasificadorVecinosProximos(1, False)\n",
    "error = knn.validacion(VS_wdbc, dataset_wdbc, knn)\n",
    "\n",
    "print(\"-- Validacion simple -- Dataset WDBC -- K: 1 -- Error: \",error)"
   ]
  },
  {
   "cell_type": "code",
   "execution_count": 217,
   "metadata": {},
   "outputs": [
    {
     "name": "stdout",
     "output_type": "stream",
     "text": [
      "-- Validacion simple -- Dataset WDBC -- K: 3 -- Error:  0.04093567251461988\n"
     ]
    }
   ],
   "source": [
    "knn = ClasificadorVecinosProximos(3, False)\n",
    "error = knn.validacion(VS_wdbc, dataset_wdbc, knn)\n",
    "\n",
    "print(\"-- Validacion simple -- Dataset WDBC -- K: 3 -- Error: \",error)"
   ]
  },
  {
   "cell_type": "code",
   "execution_count": 218,
   "metadata": {},
   "outputs": [
    {
     "name": "stdout",
     "output_type": "stream",
     "text": [
      "-- Validacion simple -- Dataset WDBC -- K: 5 -- Error:  0.023391812865497075\n"
     ]
    }
   ],
   "source": [
    "knn = ClasificadorVecinosProximos(5, False)\n",
    "error = knn.validacion(VS_wdbc, dataset_wdbc, knn)\n",
    "\n",
    "print(\"-- Validacion simple -- Dataset WDBC -- K: 5 -- Error: \",error)"
   ]
  },
  {
   "cell_type": "code",
   "execution_count": 219,
   "metadata": {},
   "outputs": [
    {
     "name": "stdout",
     "output_type": "stream",
     "text": [
      "-- Validacion simple -- Dataset WDBC -- K: 11 -- Error:  0.023391812865497075\n"
     ]
    }
   ],
   "source": [
    "knn = ClasificadorVecinosProximos(11, False)\n",
    "error = knn.validacion(VS_wdbc, dataset_wdbc, knn)\n",
    "\n",
    "print(\"-- Validacion simple -- Dataset WDBC -- K: 11 -- Error: \",error)"
   ]
  },
  {
   "cell_type": "markdown",
   "metadata": {},
   "source": [
    "<h4>Ejecuciones con Validación Cruzada, Dataset Normalizado y WDBC.data</h4>"
   ]
  },
  {
   "cell_type": "code",
   "execution_count": 220,
   "metadata": {},
   "outputs": [
    {
     "name": "stdout",
     "output_type": "stream",
     "text": [
      "-- Validacion cruzada -- Dataset WDBC -- K: 1 --\n",
      "    Error: 0.043921751280857006\n",
      "    Desv. tipica:  0.02285090445753087\n"
     ]
    }
   ],
   "source": [
    "knn = ClasificadorVecinosProximos(1)\n",
    "error, desv = knn.validacion(VC_wdbc, dataset_wdbc, knn)\n",
    "\n",
    "print(\"-- Validacion cruzada -- Dataset WDBC -- K: 1 --\")\n",
    "print(\"    Error:\", error)\n",
    "print(\"    Desv. tipica: \", desv)"
   ]
  },
  {
   "cell_type": "code",
   "execution_count": 221,
   "metadata": {},
   "outputs": [
    {
     "name": "stdout",
     "output_type": "stream",
     "text": [
      "-- Validacion cruzada -- Dataset WDBC -- K: 3 --\n",
      "    Error:  0.02631578947368421\n",
      "    Desv. tipica:  0.01664356663246515\n"
     ]
    }
   ],
   "source": [
    "knn = ClasificadorVecinosProximos(3)\n",
    "error, desv = knn.validacion(VC_wdbc, dataset_wdbc, knn)\n",
    "\n",
    "print(\"-- Validacion cruzada -- Dataset WDBC -- K: 3 --\")\n",
    "print(\"    Error: \", error)\n",
    "print(\"    Desv. tipica: \", desv)"
   ]
  },
  {
   "cell_type": "code",
   "execution_count": 222,
   "metadata": {},
   "outputs": [
    {
     "name": "stdout",
     "output_type": "stream",
     "text": [
      "-- Validacion cruzada -- Dataset WDBC -- K: 5 --\n",
      "    Error: 0.029902189101071265\n",
      "    Desv. tipica:  0.011991044682000136\n"
     ]
    }
   ],
   "source": [
    "knn = ClasificadorVecinosProximos(5)\n",
    "error, desv = knn.validacion(VC_wdbc, dataset_wdbc, knn)\n",
    "\n",
    "print(\"-- Validacion cruzada -- Dataset WDBC -- K: 5 --\")\n",
    "print(\"    Error:\", error)\n",
    "print(\"    Desv. tipica: \", desv)"
   ]
  },
  {
   "cell_type": "code",
   "execution_count": 223,
   "metadata": {},
   "outputs": [
    {
     "name": "stdout",
     "output_type": "stream",
     "text": [
      "-- Validacion cruzada -- Dataset WDBC -- K: 11 --\n",
      "    Error: 0.03865859338612017\n",
      "    Desv. tipica:  0.011881146717921552\n"
     ]
    }
   ],
   "source": [
    "knn = ClasificadorVecinosProximos(11)\n",
    "error, desv = knn.validacion(VC_wdbc, dataset_wdbc, knn)\n",
    "\n",
    "print(\"-- Validacion cruzada -- Dataset WDBC -- K: 11 --\")\n",
    "print(\"    Error:\", error)\n",
    "print(\"    Desv. tipica: \", desv)"
   ]
  },
  {
   "cell_type": "markdown",
   "metadata": {},
   "source": [
    "<h4>Ejecuciones con Validación Cruzada, Dataset sin Normalizar y WDBC.data</h4>"
   ]
  },
  {
   "cell_type": "code",
   "execution_count": 224,
   "metadata": {},
   "outputs": [
    {
     "name": "stdout",
     "output_type": "stream",
     "text": [
      "-- Validacion cruzada -- Dataset WDBC -- K: 1 --\n",
      "    Error: 0.044014904517931996\n",
      "    Desv. tipica:  0.02249832281484692\n"
     ]
    }
   ],
   "source": [
    "knn = ClasificadorVecinosProximos(1,False)\n",
    "error, desv = knn.validacion(VC_wdbc, dataset_wdbc, knn)\n",
    "\n",
    "print(\"-- Validacion cruzada -- Dataset WDBC -- K: 1 --\")\n",
    "print(\"    Error:\", error)\n",
    "print(\"    Desv. tipica: \", desv)"
   ]
  },
  {
   "cell_type": "code",
   "execution_count": 225,
   "metadata": {},
   "outputs": [
    {
     "name": "stdout",
     "output_type": "stream",
     "text": [
      "-- Validacion cruzada -- Dataset WDBC -- K: 3 --\n",
      "    Error:  0.02113025927650986\n",
      "    Desv. tipica:  0.01204769861826916\n"
     ]
    }
   ],
   "source": [
    "knn = ClasificadorVecinosProximos(3,False)\n",
    "error, desv = knn.validacion(VC_wdbc, dataset_wdbc, knn)\n",
    "\n",
    "print(\"-- Validacion cruzada -- Dataset WDBC -- K: 3 --\")\n",
    "print(\"    Error: \", error)\n",
    "print(\"    Desv. tipica: \", desv)"
   ]
  },
  {
   "cell_type": "code",
   "execution_count": 226,
   "metadata": {},
   "outputs": [
    {
     "name": "stdout",
     "output_type": "stream",
     "text": [
      "-- Validacion cruzada -- Dataset WDBC -- K: 5 --\n",
      "    Error: 0.03511877037727061\n",
      "    Desv. tipica:  0.01104668048277606\n"
     ]
    }
   ],
   "source": [
    "knn = ClasificadorVecinosProximos(5,False)\n",
    "error, desv = knn.validacion(VC_wdbc, dataset_wdbc, knn)\n",
    "\n",
    "print(\"-- Validacion cruzada -- Dataset WDBC -- K: 5 --\")\n",
    "print(\"    Error:\", error)\n",
    "print(\"    Desv. tipica: \", desv)"
   ]
  },
  {
   "cell_type": "code",
   "execution_count": 227,
   "metadata": {},
   "outputs": [
    {
     "name": "stdout",
     "output_type": "stream",
     "text": [
      "-- Validacion cruzada -- Dataset WDBC -- K: 11 --\n",
      "    Error: 0.03867411892563266\n",
      "    Desv. tipica:  0.013160621728232099\n"
     ]
    }
   ],
   "source": [
    "knn = ClasificadorVecinosProximos(11,False)\n",
    "error, desv = knn.validacion(VC_wdbc, dataset_wdbc, knn)\n",
    "\n",
    "print(\"-- Validacion cruzada -- Dataset WDBC -- K: 11 --\")\n",
    "print(\"    Error:\", error)\n",
    "print(\"    Desv. tipica: \", desv)"
   ]
  },
  {
   "cell_type": "markdown",
   "metadata": {},
   "source": [
    "<h3>Apartado 2</h3>\n",
    "\n",
    "En este apartado se muestra la ejecución, para los mismos datasets que en el apartado 1, del modelo de <b>Regresión Logísitca</b> que hemos implementado."
   ]
  },
  {
   "cell_type": "markdown",
   "metadata": {},
   "source": [
    "<h4>Ejecuciones con Validación Simple y Online_Shoppers.data</h4>"
   ]
  },
  {
   "cell_type": "code",
   "execution_count": 228,
   "metadata": {},
   "outputs": [
    {
     "name": "stdout",
     "output_type": "stream",
     "text": [
      "-- Validacion simple -- Dataset Online_Shoppers -- Epocas: 10 -- n: 0.1 -- Error: 0.1111111111111111\n"
     ]
    }
   ],
   "source": [
    "regresion_logistica = ClasificadorRegresionLogistica(0.1,10)\n",
    "error = regresion_logistica.validacion(VS_online, dataset_online, regresion_logistica)\n",
    "\n",
    "print(\"-- Validacion simple -- Dataset Online_Shoppers -- Epocas: 10 -- n: 0.1 -- Error:\",error)"
   ]
  },
  {
   "cell_type": "code",
   "execution_count": 229,
   "metadata": {},
   "outputs": [
    {
     "name": "stdout",
     "output_type": "stream",
     "text": [
      "-- Validacion simple -- Dataset Online_Shoppers -- Epocas: 10 -- n: 1 -- Error: 0.12652068126520682\n"
     ]
    }
   ],
   "source": [
    "regresion_logistica = ClasificadorRegresionLogistica(1,10)\n",
    "error = regresion_logistica.validacion(VS_online, dataset_online, regresion_logistica)\n",
    "\n",
    "print(\"-- Validacion simple -- Dataset Online_Shoppers -- Epocas: 10 -- n: 1 -- Error:\",error)"
   ]
  },
  {
   "cell_type": "code",
   "execution_count": 230,
   "metadata": {},
   "outputs": [
    {
     "name": "stdout",
     "output_type": "stream",
     "text": [
      "-- Validacion simple -- Dataset Online_Shoppers -- Epocas: 10 -- n: 0.01 -- Error: 0.12030278453636117\n"
     ]
    }
   ],
   "source": [
    "regresion_logistica = ClasificadorRegresionLogistica(0.01,10)\n",
    "error = regresion_logistica.validacion(VS_online, dataset_online, regresion_logistica)\n",
    "\n",
    "print(\"-- Validacion simple -- Dataset Online_Shoppers -- Epocas: 10 -- n: 0.01 -- Error:\",error)"
   ]
  },
  {
   "cell_type": "code",
   "execution_count": 231,
   "metadata": {},
   "outputs": [
    {
     "name": "stdout",
     "output_type": "stream",
     "text": [
      "-- Validacion simple -- Dataset Online_Shoppers -- Epocas: 100 -- n: 0.1 -- Error: 0.1276020546093539\n"
     ]
    }
   ],
   "source": [
    "regresion_logistica = ClasificadorRegresionLogistica(0.1,100)\n",
    "error = regresion_logistica.validacion(VS_online, dataset_online, regresion_logistica)\n",
    "\n",
    "print(\"-- Validacion simple -- Dataset Online_Shoppers -- Epocas: 100 -- n: 0.1 -- Error:\",error)"
   ]
  },
  {
   "cell_type": "code",
   "execution_count": 232,
   "metadata": {},
   "outputs": [
    {
     "name": "stdout",
     "output_type": "stream",
     "text": [
      "-- Validacion simple -- Dataset Online_Shoppers -- Epocas: 100 -- n: 1 -- Error: 0.13165720464990538\n"
     ]
    }
   ],
   "source": [
    "regresion_logistica = ClasificadorRegresionLogistica(1,100)\n",
    "error = regresion_logistica.validacion(VS_online, dataset_online, regresion_logistica)\n",
    "\n",
    "print(\"-- Validacion simple -- Dataset Online_Shoppers -- Epocas: 100 -- n: 1 -- Error:\",error)"
   ]
  },
  {
   "cell_type": "code",
   "execution_count": 233,
   "metadata": {},
   "outputs": [
    {
     "name": "stdout",
     "output_type": "stream",
     "text": [
      "-- Validacion simple -- Dataset Online_Shoppers -- Epocas: 100 -- n: 0.01 -- Error: 0.10921870775885374\n"
     ]
    }
   ],
   "source": [
    "regresion_logistica = ClasificadorRegresionLogistica(0.01,100)\n",
    "error = regresion_logistica.validacion(VS_online, dataset_online, regresion_logistica)\n",
    "\n",
    "print(\"-- Validacion simple -- Dataset Online_Shoppers -- Epocas: 100 -- n: 0.01 -- Error:\",error)"
   ]
  },
  {
   "cell_type": "markdown",
   "metadata": {},
   "source": [
    "<h4>Ejecuciones con Validación Simple y WDBC.data</h4>"
   ]
  },
  {
   "cell_type": "code",
   "execution_count": 234,
   "metadata": {},
   "outputs": [
    {
     "name": "stdout",
     "output_type": "stream",
     "text": [
      "-- Validacion simple -- Dataset WDBC -- Epocas: 10 -- n: 0.1 -- Error: 0.04678362573099415\n"
     ]
    }
   ],
   "source": [
    "regresion_logistica = ClasificadorRegresionLogistica(0.1,10)\n",
    "error = regresion_logistica.validacion(VS_wdbc, dataset_wdbc, regresion_logistica)\n",
    "\n",
    "print(\"-- Validacion simple -- Dataset WDBC -- Epocas: 10 -- n: 0.1 -- Error:\",error)"
   ]
  },
  {
   "cell_type": "code",
   "execution_count": 235,
   "metadata": {},
   "outputs": [
    {
     "name": "stdout",
     "output_type": "stream",
     "text": [
      "-- Validacion simple -- Dataset WDBC -- Epocas: 10 -- n: 1 -- Error: 0.04093567251461988\n"
     ]
    }
   ],
   "source": [
    "regresion_logistica = ClasificadorRegresionLogistica(1,10)\n",
    "error = regresion_logistica.validacion(VS_wdbc, dataset_wdbc, regresion_logistica)\n",
    "\n",
    "print(\"-- Validacion simple -- Dataset WDBC -- Epocas: 10 -- n: 1 -- Error:\",error)"
   ]
  },
  {
   "cell_type": "code",
   "execution_count": 236,
   "metadata": {},
   "outputs": [
    {
     "name": "stdout",
     "output_type": "stream",
     "text": [
      "-- Validacion simple -- Dataset WDBC -- Epocas: 10 -- n: 0.01 -- Error: 0.011695906432748537\n"
     ]
    }
   ],
   "source": [
    "regresion_logistica = ClasificadorRegresionLogistica(0.01,10)\n",
    "error = regresion_logistica.validacion(VS_wdbc, dataset_wdbc, regresion_logistica)\n",
    "\n",
    "print(\"-- Validacion simple -- Dataset WDBC -- Epocas: 10 -- n: 0.01 -- Error:\",error)"
   ]
  },
  {
   "cell_type": "code",
   "execution_count": 237,
   "metadata": {},
   "outputs": [
    {
     "name": "stdout",
     "output_type": "stream",
     "text": [
      "-- Validacion simple -- Dataset WDBC -- Epocas: 100 -- n: 0.1 -- Error: 0.03508771929824561\n"
     ]
    }
   ],
   "source": [
    "regresion_logistica = ClasificadorRegresionLogistica(0.1,100)\n",
    "error = regresion_logistica.validacion(VS_wdbc, dataset_wdbc, regresion_logistica)\n",
    "\n",
    "print(\"-- Validacion simple -- Dataset WDBC -- Epocas: 100 -- n: 0.1 -- Error:\",error)"
   ]
  },
  {
   "cell_type": "code",
   "execution_count": 238,
   "metadata": {},
   "outputs": [
    {
     "name": "stdout",
     "output_type": "stream",
     "text": [
      "-- Validacion simple -- Dataset WDBC -- Epocas: 100 -- n: 1 -- Error: 0.04093567251461988\n"
     ]
    }
   ],
   "source": [
    "regresion_logistica = ClasificadorRegresionLogistica(1,100)\n",
    "error = regresion_logistica.validacion(VS_wdbc, dataset_wdbc, regresion_logistica)\n",
    "\n",
    "print(\"-- Validacion simple -- Dataset WDBC -- Epocas: 100 -- n: 1 -- Error:\",error)"
   ]
  },
  {
   "cell_type": "code",
   "execution_count": 239,
   "metadata": {},
   "outputs": [
    {
     "name": "stdout",
     "output_type": "stream",
     "text": [
      " -- Validacion simple -- Dataset WDBC -- Epocas: 100 -- n: 0.01 -- Error: 0.11624763449580967\n"
     ]
    }
   ],
   "source": [
    "regresion_logistica = ClasificadorRegresionLogistica(0.01,100)\n",
    "error = regresion_logistica.validacion(VS_wdbc, dataset_online, regresion_logistica)\n",
    "\n",
    "print(\" -- Validacion simple -- Dataset WDBC -- Epocas: 100 -- n: 0.01 -- Error:\",error)"
   ]
  },
  {
   "cell_type": "markdown",
   "metadata": {},
   "source": [
    "<h4>Ejecuciones con Validación Cruzada y Online_Shoppers.data</h4>"
   ]
  },
  {
   "cell_type": "code",
   "execution_count": 240,
   "metadata": {},
   "outputs": [
    {
     "name": "stdout",
     "output_type": "stream",
     "text": [
      "-- Validacion cruzada -- Dataset ONLINE_SHOPPERS -- Epocas: 10 -- n: 0.1 --\n",
      "    Error: 0.14047039740470396\n",
      "    Desv. tipica: 0.006368522442627928\n"
     ]
    }
   ],
   "source": [
    "regresion_logistica = ClasificadorRegresionLogistica(0.1,10)\n",
    "error, desv = regresion_logistica.validacion(VC_online, dataset_online, regresion_logistica)\n",
    "\n",
    "\n",
    "print(\"-- Validacion cruzada -- Dataset ONLINE_SHOPPERS -- Epocas: 10 -- n: 0.1 --\")\n",
    "print(\"    Error:\", error)\n",
    "print(\"    Desv. tipica:\", desv)"
   ]
  },
  {
   "cell_type": "code",
   "execution_count": 241,
   "metadata": {},
   "outputs": [
    {
     "name": "stdout",
     "output_type": "stream",
     "text": [
      "-- Validacion cruzada -- Dataset ONLINE_SHOPPERS -- Epocas: 10 -- n: 0.1 --\n",
      "    Error: 0.12570965125709652\n",
      "    Desv. tipica:  0.011949970553830914\n"
     ]
    }
   ],
   "source": [
    "regresion_logistica = ClasificadorRegresionLogistica(1,10)\n",
    "error, desv = regresion_logistica.validacion(VC_online, dataset_online, regresion_logistica)\n",
    "\n",
    "\n",
    "print(\"-- Validacion cruzada -- Dataset ONLINE_SHOPPERS -- Epocas: 10 -- n: 0.1 --\")\n",
    "print(\"    Error:\", error)\n",
    "print(\"    Desv. tipica: \", desv)"
   ]
  },
  {
   "cell_type": "code",
   "execution_count": 242,
   "metadata": {},
   "outputs": [
    {
     "name": "stdout",
     "output_type": "stream",
     "text": [
      "-- Validacion cruzada -- Dataset ONLINE_SHOPPERS -- Epocas: 10 -- n: 1 --\n",
      "    Error: 0.11654501216545013\n",
      "    Desv. tipica:  0.006018039402786422\n"
     ]
    }
   ],
   "source": [
    "regresion_logistica = ClasificadorRegresionLogistica(0.01,10)\n",
    "error, desv = regresion_logistica.validacion(VC_online, dataset_online, regresion_logistica)\n",
    "\n",
    "\n",
    "print(\"-- Validacion cruzada -- Dataset ONLINE_SHOPPERS -- Epocas: 10 -- n: 1 --\")\n",
    "print(\"    Error:\", error)\n",
    "print(\"    Desv. tipica: \", desv)"
   ]
  },
  {
   "cell_type": "code",
   "execution_count": 243,
   "metadata": {},
   "outputs": [
    {
     "name": "stdout",
     "output_type": "stream",
     "text": [
      "-- Validacion cruzada -- Dataset ONLINE_SHOPPERS -- Epocas: 100 -- n: 0.1 --\n",
      "    Error: 0.12327656123276562\n",
      "    Desv. tipica:  0.004573518955351726\n"
     ]
    }
   ],
   "source": [
    "regresion_logistica = ClasificadorRegresionLogistica(0.1,100)\n",
    "error, desv = regresion_logistica.validacion(VC_online, dataset_online, regresion_logistica)\n",
    "\n",
    "\n",
    "print(\"-- Validacion cruzada -- Dataset ONLINE_SHOPPERS -- Epocas: 100 -- n: 0.1 --\")\n",
    "print(\"    Error:\", error)\n",
    "print(\"    Desv. tipica: \", desv)"
   ]
  },
  {
   "cell_type": "code",
   "execution_count": 244,
   "metadata": {},
   "outputs": [
    {
     "name": "stdout",
     "output_type": "stream",
     "text": [
      "-- Validacion cruzada -- Dataset ONLINE_SHOPPERS -- Epocas: 100 -- n: 1 --\n",
      "    Error: 0.1283860502838605\n",
      "    Desv. tipica:  0.015208921183907806\n"
     ]
    }
   ],
   "source": [
    "regresion_logistica = ClasificadorRegresionLogistica(1,100)\n",
    "error, desv = regresion_logistica.validacion(VC_online, dataset_online, regresion_logistica)\n",
    "\n",
    "\n",
    "print(\"-- Validacion cruzada -- Dataset ONLINE_SHOPPERS -- Epocas: 100 -- n: 1 --\")\n",
    "print(\"    Error:\", error)\n",
    "print(\"    Desv. tipica: \", desv)"
   ]
  },
  {
   "cell_type": "code",
   "execution_count": 245,
   "metadata": {},
   "outputs": [
    {
     "name": "stdout",
     "output_type": "stream",
     "text": [
      "-- Validacion cruzada -- Dataset ONLINE_SHOPPERS -- Epocas: 100 -- n: 0.01 --\n",
      "    Error: 0.1192214111922141\n",
      "    Desv. tipica:  0.002832806033507378\n"
     ]
    }
   ],
   "source": [
    "regresion_logistica = ClasificadorRegresionLogistica(0.01,100)\n",
    "error, desv = regresion_logistica.validacion(VC_online, dataset_online, regresion_logistica)\n",
    "\n",
    "\n",
    "print(\"-- Validacion cruzada -- Dataset ONLINE_SHOPPERS -- Epocas: 100 -- n: 0.01 --\")\n",
    "print(\"    Error:\", error)\n",
    "print(\"    Desv. tipica: \", desv)"
   ]
  },
  {
   "cell_type": "markdown",
   "metadata": {},
   "source": [
    "<h4>Ejecuciones con Validación Cruzada y WDBC.data</h4>"
   ]
  },
  {
   "cell_type": "code",
   "execution_count": 246,
   "metadata": {},
   "outputs": [
    {
     "name": "stdout",
     "output_type": "stream",
     "text": [
      "-- Validacion cruzada -- Dataset WDBC -- Epocas: 10 -- n: 0.1 --\n",
      "    Error: 0.022853594162397142\n",
      "    Desv. tipica:  0.017199158756218084\n"
     ]
    }
   ],
   "source": [
    "regresion_logistica = ClasificadorRegresionLogistica(0.1,10)\n",
    "error, desv = regresion_logistica.validacion(VC_wdbc, dataset_wdbc, regresion_logistica)\n",
    "\n",
    "\n",
    "print(\"-- Validacion cruzada -- Dataset WDBC -- Epocas: 10 -- n: 0.1 --\")\n",
    "print(\"    Error:\", error)\n",
    "print(\"    Desv. tipica: \", desv)"
   ]
  },
  {
   "cell_type": "code",
   "execution_count": 247,
   "metadata": {},
   "outputs": [
    {
     "name": "stdout",
     "output_type": "stream",
     "text": [
      "-- Validacion cruzada -- Dataset WDBC -- Epocas: 10 -- n: 1 --\n",
      "    Error: 0.0351963980748331\n",
      "    Desv. tipica:  0.01681592965509482\n"
     ]
    }
   ],
   "source": [
    "regresion_logistica = ClasificadorRegresionLogistica(1,10)\n",
    "error, desv = regresion_logistica.validacion(VC_wdbc, dataset_wdbc, regresion_logistica)\n",
    "\n",
    "\n",
    "print(\"-- Validacion cruzada -- Dataset WDBC -- Epocas: 10 -- n: 1 --\")\n",
    "print(\"    Error:\", error)\n",
    "print(\"    Desv. tipica: \", desv)"
   ]
  },
  {
   "cell_type": "code",
   "execution_count": 248,
   "metadata": {},
   "outputs": [
    {
     "name": "stdout",
     "output_type": "stream",
     "text": [
      "-- Validacion cruzada -- Dataset WDBC -- Epocas: 10 -- n: 0.01 --\n",
      "    Error: 0.01936034777208508\n",
      "    Desv. tipica:  0.017067405725460918\n"
     ]
    }
   ],
   "source": [
    "regresion_logistica = ClasificadorRegresionLogistica(0.01,10)\n",
    "error, desv = regresion_logistica.validacion(VC_wdbc, dataset_wdbc, regresion_logistica)\n",
    "\n",
    "\n",
    "print(\"-- Validacion cruzada -- Dataset WDBC -- Epocas: 10 -- n: 0.01 --\")\n",
    "print(\"    Error:\", error)\n",
    "print(\"    Desv. tipica: \", desv)"
   ]
  },
  {
   "cell_type": "code",
   "execution_count": 249,
   "metadata": {},
   "outputs": [
    {
     "name": "stdout",
     "output_type": "stream",
     "text": [
      "-- Validacion cruzada -- Dataset WDBC -- Epocas: 100 -- n: 0.1 --\n",
      "    Error: 0.0351653469958081\n",
      "    Desv. tipica:  0.020037692194292023\n"
     ]
    }
   ],
   "source": [
    "regresion_logistica = ClasificadorRegresionLogistica(0.1,100)\n",
    "error, desv = regresion_logistica.validacion(VC_wdbc, dataset_wdbc, regresion_logistica)\n",
    "\n",
    "\n",
    "print(\"-- Validacion cruzada -- Dataset WDBC -- Epocas: 100 -- n: 0.1 --\")\n",
    "print(\"    Error:\", error)\n",
    "print(\"    Desv. tipica: \", desv)"
   ]
  },
  {
   "cell_type": "code",
   "execution_count": 250,
   "metadata": {},
   "outputs": [
    {
     "name": "stdout",
     "output_type": "stream",
     "text": [
      "-- Validacion cruzada -- Dataset WDBC -- Epocas: 100 -- n: 1 --\n",
      "    Error: 0.03688868188169538\n",
      "    Desv. tipica:  0.012854302909333473\n"
     ]
    }
   ],
   "source": [
    "regresion_logistica = ClasificadorRegresionLogistica(1,100)\n",
    "error, desv = regresion_logistica.validacion(VC_wdbc, dataset_wdbc, regresion_logistica)\n",
    "\n",
    "\n",
    "print(\"-- Validacion cruzada -- Dataset WDBC -- Epocas: 100 -- n: 1 --\")\n",
    "print(\"    Error:\", error)\n",
    "print(\"    Desv. tipica: \", desv)"
   ]
  },
  {
   "cell_type": "code",
   "execution_count": 251,
   "metadata": {},
   "outputs": [
    {
     "name": "stdout",
     "output_type": "stream",
     "text": [
      "-- Validacion cruzada -- WDBC -- Epocas: 100 -- n: 0.01 --\n",
      "    Error: 0.021099208197484863\n",
      "    Desv. tipica:  0.008973493226253649\n"
     ]
    }
   ],
   "source": [
    "regresion_logistica = ClasificadorRegresionLogistica(0.01,100)\n",
    "error, desv = regresion_logistica.validacion(VC_wdbc, dataset_wdbc, regresion_logistica)\n",
    "\n",
    "\n",
    "print(\"-- Validacion cruzada -- WDBC -- Epocas: 100 -- n: 0.01 --\")\n",
    "print(\"    Error:\", error)\n",
    "print(\"    Desv. tipica: \", desv)"
   ]
  },
  {
   "cell_type": "markdown",
   "metadata": {},
   "source": [
    "<h3>Apartado 3</h3>\n",
    "\n",
    "Ejecución de los algoritmos de SKLearn y de la representación de fronteras utilizando nuestros modelos."
   ]
  },
  {
   "cell_type": "markdown",
   "metadata": {},
   "source": [
    "<h4>Código de SKLearn para ambos algoritmos de clasificación</h4>"
   ]
  },
  {
   "cell_type": "code",
   "execution_count": 252,
   "metadata": {},
   "outputs": [],
   "source": [
    "from sklearn.metrics import confusion_matrix\n",
    "from matplotlib import pyplot as plt\n",
    "from sklearn.model_selection import train_test_split, cross_val_score\n",
    "from sklearn.neighbors import KNeighborsClassifier\n",
    "import numpy as np\n",
    "from sklearn.linear_model import LogisticRegression, SGDClassifier\n",
    "from sklearn.metrics import confusion_matrix\n",
    "from matplotlib import pyplot as plt\n",
    "\n",
    "def validacion_simple_sklearn(dataset, porcentaje):\n",
    "    # Matriz con los atributos\n",
    "    X = dataset.datos[:, :-1]\n",
    "\n",
    "    # Array con las clases\n",
    "    y = dataset.datos[:, -1]\n",
    "\n",
    "    # Realizamos la divison en train-test, X_train es la partición sobre la que se va a entrenar e X_test sobre la que se va a clasificar\n",
    "    X_train, X_test, y_train, y_test = train_test_split(X, y, train_size=porcentaje, shuffle=True)\n",
    "\n",
    "    return X_train, X_test, y_train, y_test\n",
    "\n",
    "def knn_val_simple(x_train, y_train, x_test, k, weights = 'uniform'):\n",
    "\n",
    "    if weights == 'uniform':\n",
    "        neigh = KNeighborsClassifier(n_neighbors = k, metric = 'euclidean', weights = weights)\n",
    "    elif weights == 'distance':\n",
    "        neigh = KNeighborsClassifier(n_neighbors = k, metric = 'euclidean', weights = weights)\n",
    "    else:\n",
    "        print('Introduzca uniform/distance')\n",
    "        return\n",
    "\n",
    "    neigh.fit(x_train, y_train)\n",
    "\n",
    "    predicciones = neigh.predict(x_test)\n",
    "\n",
    "    return predicciones\n",
    "\n",
    "def knn_val_cruzada(x_train, y_train, k, n_vecinos, weights = 'uniform'):\n",
    "\n",
    "    if weights == 'uniform':\n",
    "        neigh = KNeighborsClassifier(n_neighbors = n_vecinos, metric = 'euclidean', weights = weights)\n",
    "    elif weights == 'distance':\n",
    "        neigh = KNeighborsClassifier(n_neighbors = n_vecinos, metric = 'euclidean', weights = weights)\n",
    "    else:\n",
    "        print('Introduzca uniform/distance')\n",
    "        return\n",
    "\n",
    "    acierto = cross_val_score(neigh, x_train, y_train, cv=k)\n",
    "\n",
    "    return acierto, acierto.std()\n",
    "\n",
    "def error(clases_predichas, clases_reales):\n",
    "\n",
    "    error =  1 - (np.sum(np.equal(clases_predichas, clases_reales)) / len(clases_predichas))\n",
    "\n",
    "    return error\n",
    "\n",
    "def regresionLog_val_simple(x_train, y_train, x_test):\n",
    "\n",
    "    logistic_regression = LogisticRegression(max_iter = 1000000, solver = 'lbfgs')\n",
    "    logistic_regression.fit(x_train, y_train)\n",
    "    predicciones = logistic_regression.predict(x_test)\n",
    "\n",
    "    return predicciones\n",
    "\n",
    "def regresionLog_val_cruzada(x_train, y_train, k):\n",
    "\n",
    "    logistic_regression = LogisticRegression(max_iter= 1000000, solver = 'lbfgs')\n",
    "\n",
    "    acierto = cross_val_score(logistic_regression, x_train, y_train, cv=k)\n",
    "\n",
    "    return acierto, acierto.std()"
   ]
  },
  {
   "cell_type": "markdown",
   "metadata": {},
   "source": [
    "<h4>Código para la representación de fronteras</h4>\n",
    "\n",
    "La clase es la misma que se define en el enunciado de la práctica, salvo que se modifica la función <b>clasifica()</b> para invocarla de la forma adecuada."
   ]
  },
  {
   "cell_type": "code",
   "execution_count": 253,
   "metadata": {},
   "outputs": [],
   "source": [
    "import Clasificador\n",
    "from matplotlib.colors import ListedColormap\n",
    "import numpy as np\n",
    "import matplotlib.pyplot as plt\n",
    "\n",
    "\n",
    "# Autor Luis Lago y Manuel Sanchez Montanes\n",
    "# Modificada por Gonzalo\n",
    "def plotModel(x, y, clase, clf, title):\n",
    "    x_min, x_max = x.min() - .2, x.max() + .2\n",
    "    y_min, y_max = y.min() - .2, y.max() + .2\n",
    "\n",
    "    hx = (x_max - x_min) / 100.\n",
    "    hy = (y_max - y_min) / 100.\n",
    "\n",
    "    xx, yy = np.meshgrid(np.arange(x_min, x_max, hx), np.arange(y_min, y_max, hy))\n",
    "\n",
    "    if isinstance(clf, Clasificador.Clasificador):\n",
    "        zeros = np.zeros(len(xx.ravel()))\n",
    "        pred = clf.clasifica(np.c_[xx.ravel(), yy.ravel(), zeros])\n",
    "        z = np.array(pred)\n",
    "        # z = clf.clasifica(np.c_[xx.ravel(), yy.ravel()], [False, False, True], diccionarios)\n",
    "    elif hasattr(clf, \"decision_function\"):\n",
    "        z = clf.decision_function(np.c_[xx.ravel(), yy.ravel()])\n",
    "    else:\n",
    "        z = clf.predict_proba(np.c_[xx.ravel(), yy.ravel()])[:, 1]\n",
    "\n",
    "    z = z.reshape(xx.shape)\n",
    "    cm = plt.cm.RdBu\n",
    "    cm_bright = ListedColormap(['#FF0000', '#0000FF'])\n",
    "    # ax = plt.subplot(1, 1, 1)\n",
    "    plt.contourf(xx, yy, z, cmap=cm, alpha=.8)\n",
    "    plt.contour(xx, yy, z, [0.5], linewidths=[2], colors=['k'])\n",
    "\n",
    "    if clase is not None:\n",
    "        plt.scatter(x[clase == 0], y[clase == 0], c='#FF0000')\n",
    "        plt.scatter(x[clase == 1], y[clase == 1], c='#0000FF')\n",
    "    else:\n",
    "        plt.plot(x, y, 'g', linewidth=3)\n",
    "\n",
    "    plt.gca().set_xlim(xx.min(), xx.max())\n",
    "    plt.gca().set_ylim(yy.min(), yy.max())\n",
    "    plt.grid(True)\n",
    "    plt.xlabel(\"X\")\n",
    "    plt.ylabel(\"Y\")\n",
    "    plt.title(title)\n",
    "    plt.show()"
   ]
  },
  {
   "cell_type": "markdown",
   "metadata": {},
   "source": [
    "<h4>Ejecución de SKLearn para Vecinos Próximos - Validación Simple</h4>"
   ]
  },
  {
   "cell_type": "code",
   "execution_count": 254,
   "metadata": {},
   "outputs": [
    {
     "name": "stdout",
     "output_type": "stream",
     "text": [
      " -- Validación Simple KNN -- K: 1 - ONLINE_SHOPPERS -- \n",
      "0.15382535820492027\n"
     ]
    }
   ],
   "source": [
    "X_train, X_test, y_train, y_test = validacion_simple_sklearn(dataset_online, 0.7)\n",
    "pred = knn_val_simple(X_train, y_train, X_test, 1)\n",
    "\n",
    "print(\" -- Validación Simple KNN -- K: 1 - ONLINE_SHOPPERS -- \")\n",
    "print(error(pred, y_test))"
   ]
  },
  {
   "cell_type": "code",
   "execution_count": 255,
   "metadata": {},
   "outputs": [
    {
     "name": "stdout",
     "output_type": "stream",
     "text": [
      " -- Validación Simple KNN -- K: 3 - ONLINE_SHOPPERS -- \n",
      "0.13003514463368482\n"
     ]
    }
   ],
   "source": [
    "X_train, X_test, y_train, y_test = validacion_simple_sklearn(dataset_online, 0.7)\n",
    "pred = knn_val_simple(X_train, y_train, X_test, 3)\n",
    "\n",
    "print(\" -- Validación Simple KNN -- K: 3 - ONLINE_SHOPPERS -- \")\n",
    "print(error(pred, y_test))"
   ]
  },
  {
   "cell_type": "code",
   "execution_count": 256,
   "metadata": {},
   "outputs": [
    {
     "name": "stdout",
     "output_type": "stream",
     "text": [
      " -- Validación Simple KNN -- K: 5 - ONLINE_SHOPPERS -- \n",
      "0.12787239794539063\n"
     ]
    }
   ],
   "source": [
    "X_train, X_test, y_train, y_test = validacion_simple_sklearn(dataset_online, 0.7)\n",
    "pred = knn_val_simple(X_train, y_train, X_test, 5)\n",
    "\n",
    "print(\" -- Validación Simple KNN -- K: 5 - ONLINE_SHOPPERS -- \")\n",
    "print(error(pred, y_test))"
   ]
  },
  {
   "cell_type": "code",
   "execution_count": 257,
   "metadata": {},
   "outputs": [
    {
     "name": "stdout",
     "output_type": "stream",
     "text": [
      " -- Validación Simple KNN -- K: 11 - ONLINE_SHOPPERS -- \n",
      "0.11922141119221408\n"
     ]
    }
   ],
   "source": [
    "X_train, X_test, y_train, y_test = validacion_simple_sklearn(dataset_online, 0.7)\n",
    "pred = knn_val_simple(X_train, y_train, X_test, 11)\n",
    "\n",
    "print(\" -- Validación Simple KNN -- K: 11 - ONLINE_SHOPPERS -- \")\n",
    "print(error(pred, y_test))"
   ]
  },
  {
   "cell_type": "markdown",
   "metadata": {},
   "source": [
    "<h4>Ejecución de SKLearn para Vecinos Próximos - Validación Cruzada</h4>"
   ]
  },
  {
   "cell_type": "code",
   "execution_count": 258,
   "metadata": {},
   "outputs": [
    {
     "name": "stdout",
     "output_type": "stream",
     "text": [
      " -- Validación Cruzada KNN -- K: 1 -- WDBC\n",
      "    Error:  0.04924971142747214\n",
      "    Desv. tipica:  0.016484333342038523\n"
     ]
    }
   ],
   "source": [
    "X = dataset_wdbc.datos[:, :-1]\n",
    "y = dataset_wdbc.datos[:, -1]\n",
    "\n",
    "acierto, std = knn_val_cruzada(X, y, 5, 1)\n",
    "print(\" -- Validación Cruzada KNN -- K: 1 -- WDBC\")\n",
    "print(\"    Error: \", 1 - np.mean(acierto))\n",
    "print(\"    Desv. tipica: \",std)"
   ]
  },
  {
   "cell_type": "code",
   "execution_count": 259,
   "metadata": {},
   "outputs": [
    {
     "name": "stdout",
     "output_type": "stream",
     "text": [
      " -- Validación Cruzada KNN -- K: 3 -- WDBC\n",
      "    Error:  0.04223162754905729\n",
      "    Desv. tipica:  0.018963449837437595\n"
     ]
    }
   ],
   "source": [
    "X = dataset_wdbc.datos[:, :-1]\n",
    "y = dataset_wdbc.datos[:, -1]\n",
    "\n",
    "acierto, std = knn_val_cruzada(X, y, 5, 3)\n",
    "print(\" -- Validación Cruzada KNN -- K: 3 -- WDBC\")\n",
    "print(\"    Error: \", 1 - np.mean(acierto))\n",
    "print(\"    Desv. tipica: \",std)"
   ]
  },
  {
   "cell_type": "code",
   "execution_count": 260,
   "metadata": {},
   "outputs": [
    {
     "name": "stdout",
     "output_type": "stream",
     "text": [
      " -- Validación Cruzada KNN -- K: 5 -- WDBC\n",
      "    Error:  0.03512120046171607\n",
      "    Desv. tipica:  0.009558823167510602\n"
     ]
    }
   ],
   "source": [
    "X = dataset_wdbc.datos[:, :-1]\n",
    "y = dataset_wdbc.datos[:, -1]\n",
    "\n",
    "acierto, std = knn_val_cruzada(X, y, 5, 5)\n",
    "print(\" -- Validación Cruzada KNN -- K: 5 -- WDBC\")\n",
    "print(\"    Error: \", 1 - np.mean(acierto))\n",
    "print(\"    Desv. tipica: \",std)"
   ]
  },
  {
   "cell_type": "code",
   "execution_count": 261,
   "metadata": {},
   "outputs": [
    {
     "name": "stdout",
     "output_type": "stream",
     "text": [
      " -- Validación Cruzada KNN -- K: 11 -- WDBC\n",
      "    Error:  0.038568680261639066\n",
      "    Desv. tipica:  0.01781791934863311\n"
     ]
    }
   ],
   "source": [
    "X = dataset_wdbc.datos[:, :-1]\n",
    "y = dataset_wdbc.datos[:, -1]\n",
    "\n",
    "acierto, std = knn_val_cruzada(X, y, 5, 11)\n",
    "print(\" -- Validación Cruzada KNN -- K: 11 -- WDBC\")\n",
    "print(\"    Error: \",1 - np.mean(acierto))\n",
    "print(\"    Desv. tipica: \",std)"
   ]
  },
  {
   "cell_type": "markdown",
   "metadata": {},
   "source": [
    "<h4>Ejecución de SKLearn para Regresión Logística - Validación Simple</h4>"
   ]
  },
  {
   "cell_type": "code",
   "execution_count": 262,
   "metadata": {},
   "outputs": [
    {
     "name": "stdout",
     "output_type": "stream",
     "text": [
      " -- Validación Simple Regresion Logistica -- ONLINE_SHOPPERS -- \n",
      "Error:  0.12246553122465531\n"
     ]
    }
   ],
   "source": [
    "X_train, X_test, y_train, y_test = validacion_simple_sklearn(dataset_online, 0.7)\n",
    "pred = regresionLog_val_simple(X_train, y_train, X_test)\n",
    "print(\" -- Validación Simple Regresion Logistica -- ONLINE_SHOPPERS -- \")\n",
    "print(\"Error: \",error(pred, y_test))\n"
   ]
  },
  {
   "cell_type": "code",
   "execution_count": 263,
   "metadata": {},
   "outputs": [
    {
     "name": "stdout",
     "output_type": "stream",
     "text": [
      " -- Validación Simple Regresion Logistica -- WDBC -- \n",
      "Error: 0.01754385964912286\n"
     ]
    }
   ],
   "source": [
    "X_train, X_test, y_train, y_test = validacion_simple_sklearn(dataset_wdbc, 0.7)\n",
    "pred = regresionLog_val_simple(X_train, y_train, X_test)\n",
    "print(\" -- Validación Simple Regresion Logistica -- WDBC -- \")\n",
    "print(\"Error:\", error(pred, y_test))"
   ]
  },
  {
   "cell_type": "markdown",
   "metadata": {},
   "source": [
    "<h4>Ejecución de SKLearn para Regresión Logística - Validación Cruzada</h4>"
   ]
  },
  {
   "cell_type": "code",
   "execution_count": 264,
   "metadata": {},
   "outputs": [
    {
     "name": "stdout",
     "output_type": "stream",
     "text": [
      " -- Validación Cruzada Regresion Logistica -- ONLINE SHOPPERS\n",
      "    Error:  0.11744097549637966\n",
      "    Desv. tipica:  0.011078557635949325\n"
     ]
    }
   ],
   "source": [
    "X = dataset_online.datos[:, :-1]\n",
    "y = dataset_online.datos[:, -1]\n",
    "\n",
    "acierto, std = regresionLog_val_cruzada(X, y, 5)\n",
    "print(\" -- Validación Cruzada Regresion Logistica -- ONLINE SHOPPERS\")\n",
    "print(\"    Error: \", 1 - np.mean(acierto))\n",
    "print(\"    Desv. tipica: \",std)"
   ]
  },
  {
   "cell_type": "code",
   "execution_count": 265,
   "metadata": {},
   "outputs": [
    {
     "name": "stdout",
     "output_type": "stream",
     "text": [
      " -- Validación Cruzada Regresion Logistica -- WDBC\n",
      "    Error:  0.021085032704886486\n",
      "    Desv. tipica:  0.0070437553203581554\n"
     ]
    }
   ],
   "source": [
    "X = dataset_wdbc.datos[:, :-1]\n",
    "y = dataset_wdbc.datos[:, -1]\n",
    "\n",
    "acierto, std = regresionLog_val_cruzada(X, y, 5)\n",
    "print(\" -- Validación Cruzada Regresion Logistica -- WDBC\")\n",
    "print(\"    Error: \",1 - np.mean(acierto))\n",
    "print(\"    Desv. tipica: \",std)"
   ]
  },
  {
   "cell_type": "markdown",
   "metadata": {},
   "source": [
    "<h4>Representación de fronteras Vecinos Próximos</h4>\n",
    "\n",
    "Tomamos la K como 11 para todos los casos."
   ]
  },
  {
   "cell_type": "code",
   "execution_count": 266,
   "metadata": {},
   "outputs": [
    {
     "data": {
      "image/png": "[encoded data removed]",
      "text/plain": [
       "<Figure size 432x288 with 1 Axes>"
      ]
     },
     "metadata": {
      "needs_background": "light"
     },
     "output_type": "display_data"
    }
   ],
   "source": [
    "knn = Clasificador.ClasificadorVecinosProximos(11)\n",
    "knn.entrenamiento(dataset_example1, VS_example1.particiones[0].indicesTrain)\n",
    "\n",
    "x = dataset_example1.datos[VS_example1.particiones[0].indicesTrain, 0]\n",
    "y = dataset_example1.datos[VS_example1.particiones[0].indicesTrain, 1]\n",
    "clase = dataset_example1.datos[VS_example1.particiones[0].indicesTrain, -1] != 0\n",
    "plotModel(x, y, clase, knn, \"-- Fronteras KNN -- K = 11 -- EXAMPLE1 --\")"
   ]
  },
  {
   "cell_type": "code",
   "execution_count": 267,
   "metadata": {},
   "outputs": [
    {
     "data": {
      "image/png": "[encoded data removed]",
      "text/plain": [
       "<Figure size 432x288 with 1 Axes>"
      ]
     },
     "metadata": {
      "needs_background": "light"
     },
     "output_type": "display_data"
    }
   ],
   "source": [
    "knn = Clasificador.ClasificadorVecinosProximos(11)\n",
    "knn.entrenamiento(dataset_example2, VS_example2.particiones[0].indicesTrain)\n",
    "\n",
    "x = dataset_example2.datos[VS_example2.particiones[0].indicesTrain, 0]\n",
    "y = dataset_example2.datos[VS_example2.particiones[0].indicesTrain, 1]\n",
    "clase = dataset_example2.datos[VS_example2.particiones[0].indicesTrain, -1] != 0\n",
    "plotModel(x, y, clase, knn, \"-- Fronteras KNN -- K = 11 -- EXAMPLE2 --\")"
   ]
  },
  {
   "cell_type": "code",
   "execution_count": 268,
   "metadata": {},
   "outputs": [
    {
     "data": {
      "image/png": "[encoded data removed]",
      "text/plain": [
       "<Figure size 432x288 with 1 Axes>"
      ]
     },
     "metadata": {
      "needs_background": "light"
     },
     "output_type": "display_data"
    }
   ],
   "source": [
    "knn = Clasificador.ClasificadorVecinosProximos(11)\n",
    "knn.entrenamiento(dataset_example3, VS_example3.particiones[0].indicesTrain)\n",
    "\n",
    "x = dataset_example3.datos[VS_example3.particiones[0].indicesTrain, 0]\n",
    "y = dataset_example3.datos[VS_example3.particiones[0].indicesTrain, 1]\n",
    "clase = dataset_example3.datos[VS_example3.particiones[0].indicesTrain, -1] != 0\n",
    "plotModel(x, y, clase, knn, \"-- Fronteras KNN -- K = 11 -- EXAMPLE3 --\")"
   ]
  },
  {
   "cell_type": "code",
   "execution_count": 269,
   "metadata": {},
   "outputs": [
    {
     "data": {
      "image/png": "[encoded data removed]",
      "text/plain": [
       "<Figure size 432x288 with 1 Axes>"
      ]
     },
     "metadata": {
      "needs_background": "light"
     },
     "output_type": "display_data"
    }
   ],
   "source": [
    "knn = Clasificador.ClasificadorVecinosProximos(11)\n",
    "knn.entrenamiento(dataset_example4, VS_example4.particiones[0].indicesTrain)\n",
    "\n",
    "x = dataset_example4.datos[VS_example4.particiones[0].indicesTrain, 0]\n",
    "y = dataset_example4.datos[VS_example4.particiones[0].indicesTrain, 1]\n",
    "clase = dataset_example4.datos[VS_example4.particiones[0].indicesTrain, -1] != 0\n",
    "plotModel(x, y, clase, knn, \"-- Fronteras KNN -- K = 11 -- EXAMPLE4 --\")"
   ]
  },
  {
   "cell_type": "markdown",
   "metadata": {},
   "source": [
    "<h4>Representación de fronteras Regresión Logística</h4>"
   ]
  },
  {
   "cell_type": "code",
   "execution_count": 270,
   "metadata": {},
   "outputs": [
    {
     "data": {
      "image/png": "[encoded data removed]",
      "text/plain": [
       "<Figure size 432x288 with 1 Axes>"
      ]
     },
     "metadata": {
      "needs_background": "light"
     },
     "output_type": "display_data"
    }
   ],
   "source": [
    "reg = Clasificador.ClasificadorRegresionLogistica(0.1,100)\n",
    "reg.entrenamiento(dataset_example1, VS_example1.particiones[0].indicesTrain)\n",
    "\n",
    "x = dataset_example1.datos[VS_example1.particiones[0].indicesTrain, 0]\n",
    "y = dataset_example1.datos[VS_example1.particiones[0].indicesTrain, 1]\n",
    "clase = dataset_example1.datos[VS_example1.particiones[0].indicesTrain, -1] != 0\n",
    "plotModel(x, y, clase, reg, \"-- Fronteras REGRESION -- EXAMPLE1 --\")"
   ]
  },
  {
   "cell_type": "code",
   "execution_count": 271,
   "metadata": {},
   "outputs": [
    {
     "name": "stderr",
     "output_type": "stream",
     "text": [
      "/home/pablo/anaconda3/lib/python3.7/site-packages/ipykernel_launcher.py:33: UserWarning: No contour levels were found within the data range.\n"
     ]
    },
    {
     "data": {
      "image/png": "[encoded data removed]",
      "text/plain": [
       "<Figure size 432x288 with 1 Axes>"
      ]
     },
     "metadata": {
      "needs_background": "light"
     },
     "output_type": "display_data"
    }
   ],
   "source": [
    "reg = Clasificador.ClasificadorRegresionLogistica(0.1,100)\n",
    "reg.entrenamiento(dataset_example2, VS_example2.particiones[0].indicesTrain)\n",
    "\n",
    "x = dataset_example2.datos[VS_example2.particiones[0].indicesTrain, 0]\n",
    "y = dataset_example2.datos[VS_example2.particiones[0].indicesTrain, 1]\n",
    "clase = dataset_example2.datos[VS_example2.particiones[0].indicesTrain, -1] != 0\n",
    "plotModel(x, y, clase, reg, \"-- Fronteras REGRESION -- EXAMPLE2 --\")"
   ]
  },
  {
   "cell_type": "code",
   "execution_count": 272,
   "metadata": {},
   "outputs": [
    {
     "data": {
      "image/png": "[encoded data removed]",
      "text/plain": [
       "<Figure size 432x288 with 1 Axes>"
      ]
     },
     "metadata": {
      "needs_background": "light"
     },
     "output_type": "display_data"
    }
   ],
   "source": [
    "reg = Clasificador.ClasificadorRegresionLogistica(0.1,100)\n",
    "reg.entrenamiento(dataset_example3, VS_example3.particiones[0].indicesTrain)\n",
    "\n",
    "x = dataset_example3.datos[VS_example3.particiones[0].indicesTrain, 0]\n",
    "y = dataset_example3.datos[VS_example3.particiones[0].indicesTrain, 1]\n",
    "clase = dataset_example3.datos[VS_example3.particiones[0].indicesTrain, -1] != 0\n",
    "plotModel(x, y, clase, reg, \"-- Fronteras REGRESION -- EXAMPLE3 --\")"
   ]
  },
  {
   "cell_type": "code",
   "execution_count": 273,
   "metadata": {},
   "outputs": [
    {
     "data": {
      "image/png": "[encoded data removed]",
      "text/plain": [
       "<Figure size 432x288 with 1 Axes>"
      ]
     },
     "metadata": {
      "needs_background": "light"
     },
     "output_type": "display_data"
    }
   ],
   "source": [
    "reg = Clasificador.ClasificadorRegresionLogistica(0.1,100)\n",
    "reg.entrenamiento(dataset_example4, VS_example4.particiones[0].indicesTrain)\n",
    "\n",
    "x = dataset_example4.datos[VS_example4.particiones[0].indicesTrain, 0]\n",
    "y = dataset_example4.datos[VS_example4.particiones[0].indicesTrain, 1]\n",
    "clase = dataset_example4.datos[VS_example4.particiones[0].indicesTrain, -1] != 0\n",
    "plotModel(x, y, clase, reg, \"-- Fronteras REGRESION -- EXAMPLE4 --\")"
   ]
  },
  {
   "cell_type": "markdown",
   "metadata": {},
   "source": [
    "<h3>Apartado 4</h3>\n",
    "\n",
    "Comparación de Análisis ROC entre los 3 clasificadores implementados durante el curso para los dataset <b>wdbc.data</b> y <b>online_shoppers</b>.\n",
    "\n",
    "En el caso de <b>Vecinos Próximos</b> vamos realizar el análisis ROC únicamente para K = 11 y Validación Simple para el conjunto de Online_Shoppers."
   ]
  },
  {
   "cell_type": "markdown",
   "metadata": {},
   "source": [
    "<h4>Curvas ROC Vecinos Próximos</h4>"
   ]
  },
  {
   "cell_type": "code",
   "execution_count": 274,
   "metadata": {},
   "outputs": [
    {
     "name": "stdout",
     "output_type": "stream",
     "text": [
      "-- Matriz de confusión KNN -- ONLINE_SHOPPERS -- K = 11 -- VAL. SIMPLE\n",
      "[[2936  518]\n",
      " [ 205   40]]\n"
     ]
    },
    {
     "data": {
      "image/png": "[encoded data removed]",
      "text/plain": [
       "<Figure size 432x288 with 1 Axes>"
      ]
     },
     "metadata": {
      "needs_background": "light"
     },
     "output_type": "display_data"
    }
   ],
   "source": [
    "knn = ClasificadorVecinosProximos(11)\n",
    "matriz = knn.matrizConfusion(dataset_online, VS_online.particiones[0].indicesTest, pred11)\n",
    "print(\"-- Matriz de confusión KNN -- ONLINE_SHOPPERS -- K = 11 -- VAL. SIMPLE\")\n",
    "print(matriz)\n",
    "knn.curvaROC()"
   ]
  },
  {
   "cell_type": "code",
   "execution_count": 276,
   "metadata": {},
   "outputs": [
    {
     "ename": "IndexError",
     "evalue": "index 9823 is out of bounds for axis 0 with size 569",
     "output_type": "error",
     "traceback": [
      "\u001b[0;31m---------------------------------------------------------------------------\u001b[0m",
      "\u001b[0;31mIndexError\u001b[0m                                Traceback (most recent call last)",
      "\u001b[0;32m<ipython-input-276-1f591ee6404c>\u001b[0m in \u001b[0;36m<module>\u001b[0;34m\u001b[0m\n\u001b[1;32m      1\u001b[0m \u001b[0mknn\u001b[0m \u001b[0;34m=\u001b[0m \u001b[0mClasificadorVecinosProximos\u001b[0m\u001b[0;34m(\u001b[0m\u001b[0;36m11\u001b[0m\u001b[0;34m)\u001b[0m\u001b[0;34m\u001b[0m\u001b[0;34m\u001b[0m\u001b[0m\n\u001b[0;32m----> 2\u001b[0;31m \u001b[0mknn\u001b[0m\u001b[0;34m.\u001b[0m\u001b[0mentrenamiento\u001b[0m\u001b[0;34m(\u001b[0m\u001b[0mdataset_wdbc\u001b[0m\u001b[0;34m,\u001b[0m \u001b[0mVS_wdbc\u001b[0m\u001b[0;34m.\u001b[0m\u001b[0mparticiones\u001b[0m\u001b[0;34m[\u001b[0m\u001b[0;36m0\u001b[0m\u001b[0;34m]\u001b[0m\u001b[0;34m.\u001b[0m\u001b[0mindicesTrain\u001b[0m\u001b[0;34m)\u001b[0m\u001b[0;34m\u001b[0m\u001b[0;34m\u001b[0m\u001b[0m\n\u001b[0m\u001b[1;32m      3\u001b[0m \u001b[0mpred\u001b[0m \u001b[0;34m=\u001b[0m \u001b[0mknn\u001b[0m\u001b[0;34m.\u001b[0m\u001b[0mclasifica\u001b[0m\u001b[0;34m(\u001b[0m\u001b[0mdataset_wdbc\u001b[0m\u001b[0;34m.\u001b[0m\u001b[0mdatos\u001b[0m\u001b[0;34m,\u001b[0m\u001b[0mVS_wdbc\u001b[0m\u001b[0;34m.\u001b[0m\u001b[0mparticiones\u001b[0m\u001b[0;34m[\u001b[0m\u001b[0;36m0\u001b[0m\u001b[0;34m]\u001b[0m\u001b[0;34m.\u001b[0m\u001b[0mindicesTest\u001b[0m\u001b[0;34m)\u001b[0m\u001b[0;34m\u001b[0m\u001b[0;34m\u001b[0m\u001b[0m\n\u001b[1;32m      4\u001b[0m \u001b[0mmatriz\u001b[0m \u001b[0;34m=\u001b[0m \u001b[0mknn\u001b[0m\u001b[0;34m.\u001b[0m\u001b[0mmatrizConfusion\u001b[0m\u001b[0;34m(\u001b[0m\u001b[0mdataset_wdbc\u001b[0m\u001b[0;34m,\u001b[0m \u001b[0mVS_wdbc\u001b[0m\u001b[0;34m.\u001b[0m\u001b[0mparticiones\u001b[0m\u001b[0;34m[\u001b[0m\u001b[0;36m0\u001b[0m\u001b[0;34m]\u001b[0m\u001b[0;34m.\u001b[0m\u001b[0mindicesTest\u001b[0m\u001b[0;34m,\u001b[0m \u001b[0mpred\u001b[0m\u001b[0;34m)\u001b[0m\u001b[0;34m\u001b[0m\u001b[0;34m\u001b[0m\u001b[0m\n\u001b[1;32m      5\u001b[0m \u001b[0mprint\u001b[0m\u001b[0;34m(\u001b[0m\u001b[0;34m\"-- Matriz de confusión KNN -- WDBC -- K = 11 -- VAL. SIMPLE\"\u001b[0m\u001b[0;34m)\u001b[0m\u001b[0;34m\u001b[0m\u001b[0;34m\u001b[0m\u001b[0m\n",
      "\u001b[0;32m<ipython-input-203-d73a5c0d90c4>\u001b[0m in \u001b[0;36mentrenamiento\u001b[0;34m(self, dataset, datosTrain)\u001b[0m\n\u001b[1;32m     19\u001b[0m \u001b[0;34m\u001b[0m\u001b[0m\n\u001b[1;32m     20\u001b[0m     \u001b[0;31m# Datos de train\u001b[0m\u001b[0;34m\u001b[0m\u001b[0;34m\u001b[0m\u001b[0;34m\u001b[0m\u001b[0m\n\u001b[0;32m---> 21\u001b[0;31m     \u001b[0mself\u001b[0m\u001b[0;34m.\u001b[0m\u001b[0mdatTrain\u001b[0m \u001b[0;34m=\u001b[0m \u001b[0mself\u001b[0m\u001b[0;34m.\u001b[0m\u001b[0mdatosClasifica\u001b[0m\u001b[0;34m[\u001b[0m\u001b[0mdatosTrain\u001b[0m\u001b[0;34m]\u001b[0m\u001b[0;34m\u001b[0m\u001b[0;34m\u001b[0m\u001b[0m\n\u001b[0m\u001b[1;32m     22\u001b[0m \u001b[0;34m\u001b[0m\u001b[0m\n\u001b[1;32m     23\u001b[0m     \u001b[0;32mreturn\u001b[0m \u001b[0mself\u001b[0m\u001b[0;34m.\u001b[0m\u001b[0mdatTrain\u001b[0m\u001b[0;34m\u001b[0m\u001b[0;34m\u001b[0m\u001b[0m\n",
      "\u001b[0;31mIndexError\u001b[0m: index 9823 is out of bounds for axis 0 with size 569"
     ]
    }
   ],
   "source": [
    "knn = ClasificadorVecinosProximos(11)\n",
    "knn.entrenamiento(dataset_wdbc, VS_wdbc.particiones[0].indicesTrain)\n",
    "pred = knn.clasifica(dataset_wdbc.datos,VS_wdbc.particiones[0].indicesTest)\n",
    "matriz = knn.matrizConfusion(dataset_wdbc, VS_wdbc.particiones[0].indicesTest, pred)\n",
    "print(\"-- Matriz de confusión KNN -- WDBC -- K = 11 -- VAL. SIMPLE\")\n",
    "print(matriz)\n",
    "knn.curvaROC()"
   ]
  },
  {
   "cell_type": "code",
   "execution_count": null,
   "metadata": {},
   "outputs": [],
   "source": [
    "knn = ClasificadorVecinosProximos(11)\n",
    "VC_wdbc = ValidacionCruzada(5)\n",
    "VC_wdbc.creaParticiones(dataset_wdbc)\n",
    "i = 1\n",
    "for particion in VC_wdbc.particiones:\n",
    "    knn.entrenamiento(dataset_wdbc, particion.indicesTrain)\n",
    "    pred = knn.clasifica(dataset_wdbc.datos,particion.indicesTest)\n",
    "    matriz = knn.matrizConfusion(dataset_wdbc, particion.indicesTest, pred)\n",
    "    print(\"-- Matriz de confusión KNN -- WDBC -- K = 11 -- VAL. CRUZADA -- Nº: \",i)\n",
    "    print(matriz)\n",
    "    i += 1\n",
    "knn.curvaROC()"
   ]
  },
  {
   "cell_type": "markdown",
   "metadata": {},
   "source": [
    "<h4>Curvas ROC Regresión Logística</h4>"
   ]
  },
  {
   "cell_type": "code",
   "execution_count": 277,
   "metadata": {},
   "outputs": [
    {
     "name": "stdout",
     "output_type": "stream",
     "text": [
      "-- Matriz de confusión REG. LOG. -- ONLINE SHOPPERS -- n = 0.01 -- N. ÉPOCAS = 100 -- VAL. SIMPLE\n",
      "[[3093  392]\n",
      " [  48  166]]\n"
     ]
    },
    {
     "data": {
      "image/png": "[encoded data removed]",
      "text/plain": [
       "<Figure size 432x288 with 1 Axes>"
      ]
     },
     "metadata": {
      "needs_background": "light"
     },
     "output_type": "display_data"
    }
   ],
   "source": [
    "reg_log = ClasificadorRegresionLogistica(0.1, 100)\n",
    "reg_log.entrenamiento(dataset_online, VS_online.particiones[0].indicesTrain)\n",
    "pred = reg_log.clasifica(dataset_online.datos,VS_online.particiones[0].indicesTest)\n",
    "matriz = reg_log.matrizConfusion(dataset_online, VS_online.particiones[0].indicesTest, pred)\n",
    "print(\"-- Matriz de confusión REG. LOG. -- ONLINE SHOPPERS -- n = 0.01 -- N. ÉPOCAS = 100 -- VAL. SIMPLE\")\n",
    "print(matriz)\n",
    "reg_log.curvaROC()"
   ]
  },
  {
   "cell_type": "code",
   "execution_count": 278,
   "metadata": {},
   "outputs": [
    {
     "ename": "IndexError",
     "evalue": "index 9823 is out of bounds for axis 0 with size 569",
     "output_type": "error",
     "traceback": [
      "\u001b[0;31m---------------------------------------------------------------------------\u001b[0m",
      "\u001b[0;31mIndexError\u001b[0m                                Traceback (most recent call last)",
      "\u001b[0;32m<ipython-input-278-1b92b9debbe3>\u001b[0m in \u001b[0;36m<module>\u001b[0;34m\u001b[0m\n\u001b[1;32m      1\u001b[0m \u001b[0mreg_log\u001b[0m \u001b[0;34m=\u001b[0m \u001b[0mClasificadorRegresionLogistica\u001b[0m\u001b[0;34m(\u001b[0m\u001b[0;36m0.01\u001b[0m\u001b[0;34m,\u001b[0m \u001b[0;36m100\u001b[0m\u001b[0;34m)\u001b[0m\u001b[0;34m\u001b[0m\u001b[0;34m\u001b[0m\u001b[0m\n\u001b[0;32m----> 2\u001b[0;31m \u001b[0mreg_log\u001b[0m\u001b[0;34m.\u001b[0m\u001b[0mentrenamiento\u001b[0m\u001b[0;34m(\u001b[0m\u001b[0mdataset_wdbc\u001b[0m\u001b[0;34m,\u001b[0m \u001b[0mVS_wdbc\u001b[0m\u001b[0;34m.\u001b[0m\u001b[0mparticiones\u001b[0m\u001b[0;34m[\u001b[0m\u001b[0;36m0\u001b[0m\u001b[0;34m]\u001b[0m\u001b[0;34m.\u001b[0m\u001b[0mindicesTrain\u001b[0m\u001b[0;34m)\u001b[0m\u001b[0;34m\u001b[0m\u001b[0;34m\u001b[0m\u001b[0m\n\u001b[0m\u001b[1;32m      3\u001b[0m \u001b[0mpred\u001b[0m \u001b[0;34m=\u001b[0m \u001b[0mreg_log\u001b[0m\u001b[0;34m.\u001b[0m\u001b[0mclasifica\u001b[0m\u001b[0;34m(\u001b[0m\u001b[0mdataset_wdbc\u001b[0m\u001b[0;34m.\u001b[0m\u001b[0mdatos\u001b[0m\u001b[0;34m,\u001b[0m\u001b[0mVS_wdbc\u001b[0m\u001b[0;34m.\u001b[0m\u001b[0mparticiones\u001b[0m\u001b[0;34m[\u001b[0m\u001b[0;36m0\u001b[0m\u001b[0;34m]\u001b[0m\u001b[0;34m.\u001b[0m\u001b[0mindicesTest\u001b[0m\u001b[0;34m)\u001b[0m\u001b[0;34m\u001b[0m\u001b[0;34m\u001b[0m\u001b[0m\n\u001b[1;32m      4\u001b[0m \u001b[0mmatriz\u001b[0m \u001b[0;34m=\u001b[0m \u001b[0mreg_log\u001b[0m\u001b[0;34m.\u001b[0m\u001b[0mmatrizConfusion\u001b[0m\u001b[0;34m(\u001b[0m\u001b[0mdataset_wdbc\u001b[0m\u001b[0;34m,\u001b[0m \u001b[0mVS_wdbc\u001b[0m\u001b[0;34m.\u001b[0m\u001b[0mparticiones\u001b[0m\u001b[0;34m[\u001b[0m\u001b[0;36m0\u001b[0m\u001b[0;34m]\u001b[0m\u001b[0;34m.\u001b[0m\u001b[0mindicesTest\u001b[0m\u001b[0;34m,\u001b[0m \u001b[0mpred\u001b[0m\u001b[0;34m)\u001b[0m\u001b[0;34m\u001b[0m\u001b[0;34m\u001b[0m\u001b[0m\n\u001b[1;32m      5\u001b[0m \u001b[0mprint\u001b[0m\u001b[0;34m(\u001b[0m\u001b[0;34m\"-- Matriz de confusión REG. LOG. -- WDBC -- n = 0.01 -- N. ÉPOCAS = 100 -- VAL. SIMPLE\"\u001b[0m\u001b[0;34m)\u001b[0m\u001b[0;34m\u001b[0m\u001b[0;34m\u001b[0m\u001b[0m\n",
      "\u001b[0;32m<ipython-input-204-11006e2b3624>\u001b[0m in \u001b[0;36mentrenamiento\u001b[0;34m(self, dataset, datosTrain)\u001b[0m\n\u001b[1;32m     23\u001b[0m \u001b[0;34m\u001b[0m\u001b[0m\n\u001b[1;32m     24\u001b[0m     \u001b[0;31m# Datos de entrenamiento\u001b[0m\u001b[0;34m\u001b[0m\u001b[0;34m\u001b[0m\u001b[0;34m\u001b[0m\u001b[0m\n\u001b[0;32m---> 25\u001b[0;31m     \u001b[0mself\u001b[0m\u001b[0;34m.\u001b[0m\u001b[0mdatTrain\u001b[0m \u001b[0;34m=\u001b[0m \u001b[0mdataset\u001b[0m\u001b[0;34m.\u001b[0m\u001b[0mextraeDatos\u001b[0m\u001b[0;34m(\u001b[0m\u001b[0mdatosTrain\u001b[0m\u001b[0;34m)\u001b[0m\u001b[0;34m\u001b[0m\u001b[0;34m\u001b[0m\u001b[0m\n\u001b[0m\u001b[1;32m     26\u001b[0m \u001b[0;34m\u001b[0m\u001b[0m\n\u001b[1;32m     27\u001b[0m     \u001b[0;31m# Inicializamos el vector w\u001b[0m\u001b[0;34m\u001b[0m\u001b[0;34m\u001b[0m\u001b[0;34m\u001b[0m\u001b[0m\n",
      "\u001b[0;32m<ipython-input-200-ab8f355e353e>\u001b[0m in \u001b[0;36mextraeDatos\u001b[0;34m(self, idx)\u001b[0m\n\u001b[1;32m     92\u001b[0m     \u001b[0;31m# TODO: implementar en la practica 1\u001b[0m\u001b[0;34m\u001b[0m\u001b[0;34m\u001b[0m\u001b[0;34m\u001b[0m\u001b[0m\n\u001b[1;32m     93\u001b[0m     \u001b[0;32mdef\u001b[0m \u001b[0mextraeDatos\u001b[0m\u001b[0;34m(\u001b[0m\u001b[0mself\u001b[0m\u001b[0;34m,\u001b[0m \u001b[0midx\u001b[0m\u001b[0;34m)\u001b[0m\u001b[0;34m:\u001b[0m\u001b[0;34m\u001b[0m\u001b[0;34m\u001b[0m\u001b[0m\n\u001b[0;32m---> 94\u001b[0;31m         \u001b[0;32mreturn\u001b[0m \u001b[0mself\u001b[0m\u001b[0;34m.\u001b[0m\u001b[0mdatos\u001b[0m\u001b[0;34m[\u001b[0m\u001b[0midx\u001b[0m\u001b[0;34m]\u001b[0m\u001b[0;34m\u001b[0m\u001b[0;34m\u001b[0m\u001b[0m\n\u001b[0m\u001b[1;32m     95\u001b[0m \u001b[0;34m\u001b[0m\u001b[0m\n\u001b[1;32m     96\u001b[0m \u001b[0;34m\u001b[0m\u001b[0m\n",
      "\u001b[0;31mIndexError\u001b[0m: index 9823 is out of bounds for axis 0 with size 569"
     ]
    }
   ],
   "source": [
    "reg_log = ClasificadorRegresionLogistica(0.01, 100)\n",
    "reg_log.entrenamiento(dataset_wdbc, VS_wdbc.particiones[0].indicesTrain)\n",
    "pred = reg_log.clasifica(dataset_wdbc.datos,VS_wdbc.particiones[0].indicesTest)\n",
    "matriz = reg_log.matrizConfusion(dataset_wdbc, VS_wdbc.particiones[0].indicesTest, pred)\n",
    "print(\"-- Matriz de confusión REG. LOG. -- WDBC -- n = 0.01 -- N. ÉPOCAS = 100 -- VAL. SIMPLE\")\n",
    "print(matriz)\n",
    "reg_log.curvaROC()"
   ]
  },
  {
   "cell_type": "code",
   "execution_count": null,
   "metadata": {},
   "outputs": [],
   "source": [
    "reg_log = ClasificadorRegresionLogistica(0.01, 100)\n",
    "VC_online = ValidacionCruzada(5)\n",
    "VC_online.creaParticiones(dataset_online)\n",
    "i = 1\n",
    "for particion in VC_online.particiones:\n",
    "    reg_log.entrenamiento(dataset_online, particion.indicesTrain)\n",
    "    pred = reg_log.clasifica(dataset_online.datos,particion.indicesTest)\n",
    "    matriz = reg_log.matrizConfusion(dataset_online, particion.indicesTest, pred)\n",
    "    print(\"-- Matriz de confusión REG. LOG. -- ONLINE_SHOPPERS -- n = 0.01 -- N. ÉPOCAS = 100 -- VAL. CRUZADA -- Nº: \",i)\n",
    "    print(matriz)\n",
    "    i += 1\n",
    "reg_log.curvaROC()"
   ]
  },
  {
   "cell_type": "code",
   "execution_count": null,
   "metadata": {},
   "outputs": [],
   "source": [
    "reg_log = ClasificadorRegresionLogistica(0.01, 100)\n",
    "VC_wdbc = ValidacionCruzada(5)\n",
    "VC_wdbc.creaParticiones(dataset_wdbc)\n",
    "i = 1\n",
    "for particion in VC_wdbc.particiones:\n",
    "    reg_log.entrenamiento(dataset_wdbc, particion.indicesTrain)\n",
    "    pred = reg_log.clasifica(dataset_wdbc.datos,particion.indicesTest)\n",
    "    matriz = reg_log.matrizConfusion(dataset_wdbc, particion.indicesTest, pred)\n",
    "    print(\"-- Matriz de confusión REG. LOG. -- WDBC -- n = 0.01 -- N. ÉPOCAS = 100 -- VAL. CRUZADA -- Nº: \",i)\n",
    "    print(matriz)\n",
    "    i += 1\n",
    "reg_log.curvaROC()"
   ]
  },
  {
   "cell_type": "markdown",
   "metadata": {},
   "source": [
    "<h3>Tablas de resultados</h3>\n",
    "\n",
    "A continuación se exponen todos los resultados de las ejecuciones de Vecinos Próximos y Regresión Logísitca, tanto nuestra implementación como la de SKLearn."
   ]
  },
  {
   "cell_type": "markdown",
   "metadata": {},
   "source": [
    "<h4>Resultados Algorirmos propios</h4>"
   ]
  },
  {
   "cell_type": "markdown",
   "metadata": {},
   "source": [
    "<style type=\"text/css\">\n",
    ".tg  {border-collapse:collapse;border-spacing:0;}\n",
    ".tg td{font-family:Arial, sans-serif;font-size:14px;padding:10px 5px;border-style:solid;border-width:1px;overflow:hidden;word-break:normal;border-color:black;}\n",
    ".tg th{font-family:Arial, sans-serif;font-size:14px;font-weight:normal;padding:10px 5px;border-style:solid;border-width:1px;overflow:hidden;word-break:normal;border-color:black;}\n",
    ".tg .tg-baqh{text-align:center;vertical-align:top}\n",
    ".tg .tg-c3ow{border-color:inherit;text-align:center;vertical-align:top}\n",
    ".tg .tg-7btt{font-weight:bold;border-color:inherit;text-align:center;vertical-align:top}\n",
    ".tg .tg-amwm{font-weight:bold;text-align:center;vertical-align:top}\n",
    "</style>\n",
    "<table class=\"tg\">\n",
    "  <tr>\n",
    "    <th class=\"tg-7btt\">KNN</th>\n",
    "    <th class=\"tg-7btt\"></th>\n",
    "    <th class=\"tg-7btt\" colspan=\"2\">V. Simple<br></th>\n",
    "    <th class=\"tg-7btt\" colspan=\"2\">V. Cruzada</th>\n",
    "  </tr>\n",
    "  <tr>\n",
    "    <td class=\"tg-7btt\"></td>\n",
    "    <td class=\"tg-7btt\">K</td>\n",
    "    <td class=\"tg-7btt\">Normalizado</td>\n",
    "    <td class=\"tg-amwm\">Sin normalizar</td>\n",
    "    <td class=\"tg-7btt\">Normalizado<br></td>\n",
    "    <td class=\"tg-amwm\">Sin normalizar</td>\n",
    "  </tr>\n",
    "  <tr>\n",
    "    <td class=\"tg-amwm\" rowspan=\"4\"><br><br><br>ONLINE</td>\n",
    "    <td class=\"tg-baqh\">1</td>\n",
    "    <td class=\"tg-baqh\">0.153</td>\n",
    "    <td class=\"tg-baqh\">0.153</td>\n",
    "    <td class=\"tg-baqh\">-</td>\n",
    "    <td class=\"tg-baqh\">-</td>\n",
    "  </tr>\n",
    "  <tr>\n",
    "    <td class=\"tg-c3ow\">3</td>\n",
    "    <td class=\"tg-c3ow\">0.153</td>\n",
    "    <td class=\"tg-baqh\">-</td>\n",
    "    <td class=\"tg-c3ow\">-</td>\n",
    "    <td class=\"tg-baqh\">-</td>\n",
    "  </tr>\n",
    "  <tr>\n",
    "    <td class=\"tg-c3ow\">5</td>\n",
    "    <td class=\"tg-c3ow\">0.153</td>\n",
    "    <td class=\"tg-baqh\">-</td>\n",
    "    <td class=\"tg-c3ow\">-</td>\n",
    "    <td class=\"tg-baqh\">-</td>\n",
    "  </tr>\n",
    "  <tr>\n",
    "    <td class=\"tg-c3ow\">11</td>\n",
    "    <td class=\"tg-c3ow\">0.153</td>\n",
    "    <td class=\"tg-baqh\">-</td>\n",
    "    <td class=\"tg-c3ow\">-</td>\n",
    "    <td class=\"tg-baqh\">-</td>\n",
    "  </tr>\n",
    "  <tr>\n",
    "    <td class=\"tg-7btt\" rowspan=\"4\"><br><br><br>WDBC</td>\n",
    "    <td class=\"tg-c3ow\">1<br></td>\n",
    "    <td class=\"tg-c3ow\">0.07</td>\n",
    "    <td class=\"tg-baqh\">0.029</td>\n",
    "    <td class=\"tg-c3ow\">0.049 +- 0.02</td>\n",
    "    <td class=\"tg-baqh\">0.044 +- 0.01</td>\n",
    "  </tr>\n",
    "  <tr>\n",
    "    <td class=\"tg-c3ow\">3</td>\n",
    "    <td class=\"tg-c3ow\">0.041<br></td>\n",
    "    <td class=\"tg-baqh\">0.047</td>\n",
    "    <td class=\"tg-c3ow\">0.035 +- 0.02<br></td>\n",
    "    <td class=\"tg-baqh\">0.035 +- 0.01</td>\n",
    "  </tr>\n",
    "  <tr>\n",
    "    <td class=\"tg-c3ow\">5</td>\n",
    "    <td class=\"tg-c3ow\">0.035</td>\n",
    "    <td class=\"tg-baqh\">0.029</td>\n",
    "    <td class=\"tg-c3ow\">0.035 +- 0.02</td>\n",
    "    <td class=\"tg-baqh\">0.035 +- 0.01</td>\n",
    "  </tr>\n",
    "  <tr>\n",
    "    <td class=\"tg-c3ow\">11</td>\n",
    "    <td class=\"tg-c3ow\">0.07<br></td>\n",
    "    <td class=\"tg-baqh\">0.053</td>\n",
    "    <td class=\"tg-c3ow\">0.037 +- 0.01</td>\n",
    "    <td class=\"tg-baqh\">0.04 +- 0.02</td>\n",
    "  </tr>\n",
    "</table>"
   ]
  },
  {
   "cell_type": "markdown",
   "metadata": {},
   "source": [
    "<style type=\"text/css\">\n",
    ".tg  {border-collapse:collapse;border-spacing:0;}\n",
    ".tg td{font-family:Arial, sans-serif;font-size:14px;padding:10px 5px;border-style:solid;border-width:1px;overflow:hidden;word-break:normal;border-color:black;}\n",
    ".tg th{font-family:Arial, sans-serif;font-size:14px;font-weight:normal;padding:10px 5px;border-style:solid;border-width:1px;overflow:hidden;word-break:normal;border-color:black;}\n",
    ".tg .tg-baqh{text-align:center;vertical-align:top}\n",
    ".tg .tg-c3ow{border-color:inherit;text-align:center;vertical-align:top}\n",
    ".tg .tg-7btt{font-weight:bold;border-color:inherit;text-align:center;vertical-align:top}\n",
    ".tg .tg-amwm{font-weight:bold;text-align:center;vertical-align:top}\n",
    "</style>\n",
    "<table class=\"tg\">\n",
    "  <tr>\n",
    "    <th class=\"tg-7btt\">Reg. Log.<br></th>\n",
    "    <th class=\"tg-7btt\">Constante Aprendizaje</th>\n",
    "    <th class=\"tg-7btt\">Num. Épocas<br></th>\n",
    "    <th class=\"tg-amwm\">V. Simple</th>\n",
    "    <th class=\"tg-7btt\">V. Cruzada</th>\n",
    "  </tr>\n",
    "  <tr>\n",
    "    <td class=\"tg-amwm\" rowspan=\"6\"><br><br><br><br><br><br>ONLINE</td>\n",
    "    <td class=\"tg-baqh\">0.1</td>\n",
    "    <td class=\"tg-baqh\">10<br></td>\n",
    "    <td class=\"tg-baqh\">0.119</td>\n",
    "    <td class=\"tg-baqh\">0.616 +- 0.25</td>\n",
    "  </tr>\n",
    "  <tr>\n",
    "    <td class=\"tg-c3ow\">1</td>\n",
    "    <td class=\"tg-c3ow\">10</td>\n",
    "    <td class=\"tg-baqh\">0.122</td>\n",
    "    <td class=\"tg-c3ow\">0.137 +- 0.05</td>\n",
    "  </tr>\n",
    "  <tr>\n",
    "    <td class=\"tg-c3ow\">0.01</td>\n",
    "    <td class=\"tg-c3ow\">10</td>\n",
    "    <td class=\"tg-baqh\">0.119</td>\n",
    "    <td class=\"tg-c3ow\">0.12 +- 0.01</td>\n",
    "  </tr>\n",
    "  <tr>\n",
    "    <td class=\"tg-c3ow\">0.1</td>\n",
    "    <td class=\"tg-c3ow\">100</td>\n",
    "    <td class=\"tg-baqh\">0.128</td>\n",
    "    <td class=\"tg-c3ow\">0.119 +- 0.009</td>\n",
    "  </tr>\n",
    "  <tr>\n",
    "    <td class=\"tg-baqh\">1<br></td>\n",
    "    <td class=\"tg-baqh\">100</td>\n",
    "    <td class=\"tg-baqh\">0.435</td>\n",
    "    <td class=\"tg-baqh\">0.13 +- 0.009</td>\n",
    "  </tr>\n",
    "  <tr>\n",
    "    <td class=\"tg-baqh\">0.01</td>\n",
    "    <td class=\"tg-baqh\">100</td>\n",
    "    <td class=\"tg-baqh\">0.178</td>\n",
    "    <td class=\"tg-baqh\">0.55 +- 0.22</td>\n",
    "  </tr>\n",
    "  <tr>\n",
    "    <td class=\"tg-7btt\" rowspan=\"6\"><br><br><br><br>WDBC</td>\n",
    "    <td class=\"tg-c3ow\">0.1</td>\n",
    "    <td class=\"tg-c3ow\">10</td>\n",
    "    <td class=\"tg-baqh\">0.082</td>\n",
    "    <td class=\"tg-c3ow\">0.15 +- 0.05</td>\n",
    "  </tr>\n",
    "  <tr>\n",
    "    <td class=\"tg-c3ow\">1</td>\n",
    "    <td class=\"tg-c3ow\">10</td>\n",
    "    <td class=\"tg-baqh\">0.158</td>\n",
    "    <td class=\"tg-c3ow\">0.22 +- 0.08</td>\n",
    "  </tr>\n",
    "  <tr>\n",
    "    <td class=\"tg-c3ow\">0.01</td>\n",
    "    <td class=\"tg-c3ow\">10</td>\n",
    "    <td class=\"tg-baqh\">0.351<br></td>\n",
    "    <td class=\"tg-c3ow\">0.076 +- 0.02</td>\n",
    "  </tr>\n",
    "  <tr>\n",
    "    <td class=\"tg-c3ow\">0.1</td>\n",
    "    <td class=\"tg-c3ow\">100</td>\n",
    "    <td class=\"tg-baqh\">0.105</td>\n",
    "    <td class=\"tg-c3ow\">0.19 +- 0.09</td>\n",
    "  </tr>\n",
    "  <tr>\n",
    "    <td class=\"tg-baqh\">1</td>\n",
    "    <td class=\"tg-baqh\">100</td>\n",
    "    <td class=\"tg-baqh\">0.07</td>\n",
    "    <td class=\"tg-baqh\">0.093 +- 0.03</td>\n",
    "  </tr>\n",
    "  <tr>\n",
    "    <td class=\"tg-baqh\">0.01</td>\n",
    "    <td class=\"tg-baqh\">100</td>\n",
    "    <td class=\"tg-baqh\">0.119</td>\n",
    "    <td class=\"tg-baqh\">0.13 +- 0.08</td>\n",
    "  </tr>\n",
    "</table>"
   ]
  },
  {
   "cell_type": "markdown",
   "metadata": {},
   "source": [
    "<h4>Resultados SKLearn</h4>"
   ]
  },
  {
   "cell_type": "markdown",
   "metadata": {},
   "source": [
    "<style type=\"text/css\">\n",
    ".tg  {border-collapse:collapse;border-spacing:0;}\n",
    ".tg td{font-family:Arial, sans-serif;font-size:14px;padding:10px 5px;border-style:solid;border-width:1px;overflow:hidden;word-break:normal;border-color:black;}\n",
    ".tg th{font-family:Arial, sans-serif;font-size:14px;font-weight:normal;padding:10px 5px;border-style:solid;border-width:1px;overflow:hidden;word-break:normal;border-color:black;}\n",
    ".tg .tg-c3ow{border-color:inherit;text-align:center;vertical-align:top}\n",
    ".tg .tg-7btt{font-weight:bold;border-color:inherit;text-align:center;vertical-align:top}\n",
    "</style>\n",
    "<table class=\"tg\">\n",
    "  <tr>\n",
    "    <th class=\"tg-7btt\">KNN</th>\n",
    "    <th class=\"tg-7btt\">K</th>\n",
    "    <th class=\"tg-7btt\">V. Simple<br></th>\n",
    "    <th class=\"tg-7btt\">V. Cruzada</th>\n",
    "  </tr>\n",
    "  <tr>\n",
    "    <td class=\"tg-7btt\" rowspan=\"4\"><br><br>ONLINE</td>\n",
    "    <td class=\"tg-c3ow\">1<br></td>\n",
    "    <td class=\"tg-c3ow\">0.155<br></td>\n",
    "    <td class=\"tg-c3ow\">-<br></td>\n",
    "  </tr>\n",
    "  <tr>\n",
    "    <td class=\"tg-c3ow\">3</td>\n",
    "    <td class=\"tg-c3ow\">0.133</td>\n",
    "    <td class=\"tg-c3ow\">-</td>\n",
    "  </tr>\n",
    "  <tr>\n",
    "    <td class=\"tg-c3ow\">5</td>\n",
    "    <td class=\"tg-c3ow\">0.128</td>\n",
    "    <td class=\"tg-c3ow\">-</td>\n",
    "  </tr>\n",
    "  <tr>\n",
    "    <td class=\"tg-c3ow\">11</td>\n",
    "    <td class=\"tg-c3ow\">0.118</td>\n",
    "    <td class=\"tg-c3ow\">-</td>\n",
    "  </tr>\n",
    "  <tr>\n",
    "    <td class=\"tg-7btt\" rowspan=\"4\"><br><br><br>WDBC</td>\n",
    "    <td class=\"tg-c3ow\">1<br></td>\n",
    "    <td class=\"tg-c3ow\">-</td>\n",
    "    <td class=\"tg-c3ow\">0.049 +- 0.02</td>\n",
    "  </tr>\n",
    "  <tr>\n",
    "    <td class=\"tg-c3ow\">3</td>\n",
    "    <td class=\"tg-c3ow\">-</td>\n",
    "    <td class=\"tg-c3ow\">0.042 +- 0.02</td>\n",
    "  </tr>\n",
    "  <tr>\n",
    "    <td class=\"tg-c3ow\">5</td>\n",
    "    <td class=\"tg-c3ow\">-</td>\n",
    "    <td class=\"tg-c3ow\">0.035 +- 0.01</td>\n",
    "  </tr>\n",
    "  <tr>\n",
    "    <td class=\"tg-c3ow\">11</td>\n",
    "    <td class=\"tg-c3ow\">-</td>\n",
    "    <td class=\"tg-c3ow\">0.039 +- 0.02</td>\n",
    "  </tr>\n",
    "</table>"
   ]
  },
  {
   "cell_type": "markdown",
   "metadata": {},
   "source": [
    "| Reg. Log \t| Num. Épocas \t| Constante aprendizaje \t| V. Simple \t|   V. cruzada  \t|\n",
    "|:--------:\t|:-----------:\t|:---------------------:\t|-----------\t|:-------------:\t|\n",
    "|  ONLINE  \t|   1000000   \t|      POR DEFECTO      \t|   0.117   \t| 0.177 +- 0.01 \t|\n",
    "|   WDBC   \t|   1000000   \t|      POR DEFECTO      \t|   0.023   \t| 0.022 +- 0.01 \t|"
   ]
  },
  {
   "cell_type": "markdown",
   "metadata": {},
   "source": [
    "<h3>Conclusiones</h3>"
   ]
  },
  {
   "cell_type": "code",
   "execution_count": null,
   "metadata": {},
   "outputs": [],
   "source": []
  }
 ],
 "metadata": {
  "kernelspec": {
   "display_name": "Python 3",
   "language": "python",
   "name": "python3"
  },
  "language_info": {
   "codemirror_mode": {
    "name": "ipython",
    "version": 3
   },
   "file_extension": ".py",
   "mimetype": "text/x-python",
   "name": "python",
   "nbconvert_exporter": "python",
   "pygments_lexer": "ipython3",
   "version": "3.7.4"
  }
 },
 "nbformat": 4,
 "nbformat_minor": 2
}
