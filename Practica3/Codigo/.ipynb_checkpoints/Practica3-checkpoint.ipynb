{
 "cells": [
  {
   "cell_type": "markdown",
   "metadata": {},
   "source": [
    "## Práctica 3 - ALGORITMOS GENÉTICOS\n",
    "### Grupo 461\n",
    "### Pareja 1: Alejandro Alcalá y Pablo Díez\n"
   ]
  },
  {
   "cell_type": "markdown",
   "metadata": {},
   "source": [
    "### Apartado 1\n",
    "En este apartado se van a explicar las decisiones de diseño que se han ido tomando a la hora de realizar la práctica.\n",
    "\n",
    "#### 1.1 Población\n",
    "En primer lugar, vamos a explicar como se genera la población que posteriormente irá evolucionando para dar con la mejor solución posible al problema propuesto. \n",
    "Esta población esta compuesta por individuos, y cada individuo es un diccionario con 3 claves, el fitness, inicialmente 0, el número de reglas, que forma parte del constructor de la clase y por último una lista con las reglas que lo definen.\n",
    "\n",
    "El tamaño de la población también forma parte de la instanciación de la clase del clasificador, pudiendo modificarse si se considera oportuno.\n",
    "\n",
    "En los siguientes apartados profundizaremos sobre el fitness y la generación de las reglas.\n",
    "\n",
    "#### 1.2. Generación de las reglas\n",
    "En segundo lugar, es necesario explicar como hemos generado las reglas de las que esta compuesto el individuo, para ello, vamos a hacerlo a través de un ejemplo:\n",
    "                                   \n",
    "                                       Regla = 0 0 1 | 1 0 0 | 0 1 0 | 1\n",
    "                                   \n",
    "Las tres primeras partes de la regla, son los atributos, y están tienen el mismo número de bits que posibles valores toma ese atributo en el dataset, es decir, en este caso, si los 3 atributos que forman la clase tuvieron los valores <i>x,y,z</i> el primero representaría la <i>x</i>, el segundo la <i>z</i> y el último representaría <i>y</i>. \n",
    "\n",
    "El último bit representa la clase, como siempre vamos a clasificar casos binarios, con un único bit sería suficiente. \n",
    "\n",
    "Otro ejemplo para el caso en el que los atributos también sean binarios sería el siguiente:\n",
    "                                       \n",
    "                                       Regla = 0 1 | 1 0 | 1 0 | 1\n",
    "                                       \n",
    "Los individuos estarán compuestos por una lista de <i>n</i> reglas, inicializadas en el instante inicial de forma aleatoria.\n",
    "\n",
    "#### 1.3. Mecanismo de cruce\n",
    "Hemos implementado el cruce en un punto, un mecanismo que nos parecía suficiente y también sencillo que tiene un buen rendimiento en la práctica. \n",
    "\n",
    "El cruce no puede producirse <i>inter-regla</i>, es decir, cuando se cruzan, se cruzan completas. Para ello, generamos un punto aleatorio entre 0 y el número total de reglas que tenemos y creamos los dos nuevos individuos.\n",
    "\n",
    "A parte de eso, hay una variable importante a tener en cuenta, la <b>Probabilidad de cruce</b>, esto indica el porcentaje de individuos de la siguiente generación que serán obtenidos por cruce, es decir, teniendo una población de 100 individuos, con una Probabilidad de cruce de 0,85, en los 100 individuos de la siguiente generación, 85 vendrían del cruce. Este proceso descrito es el que seguimos para cruzar los individuos.\n",
    "\n",
    "#### 1.4. Selección de progenitores\n",
    "Este paso es muy importante y previo al cruce. Permite seleccionar los progenitores que se utilizarán para cruzarse y generar nuevos individuos. \n",
    "\n",
    "Hemos implementado el mecanismo de la <i>Ruleta Rusa</i>, que elige los progenitores aleatoriamente, de forma ponderada en base a su fitness, o lo que es lo mismo, si un individuo tiene más fitness será elegido más veces que uno que tenga menos. Para hacer esto hemos utilizado una función de NumPy, <b>np.random.choice()</b> que genera una lista de indices aleatorios en función de la ponderación de la lista que recibe por parámetro. \n",
    "\n",
    "#### 1.5. Mecanismo de mutación\n",
    "Para mutar un individuo, lo primero es tener en cuenta cuantos individuos de la poblacion hay que mutar, para ello utilizamos la Probabilidad de mutación, que si fuera 0.1 y tuvieramos 100 indiviudos en la población, generaría 10 individuos mutados. Para elegir los 10 individuos se haría aleatoriamente de la población y mutaríamos esos 10. \n",
    "\n",
    "Para mutar esos 10 individuos realizamos una mutación a nivel de reglas, es decir, mutamos una regla de todas las que tiene el individuo, elegida de forma aleatoria. Para mutar esa regla generamos una regla aleatoria nueva. \n",
    "\n",
    "#### 1.6. Cálculo del fitness\n",
    "Para calcular el fitness implementamos un mecanismo que se basa en calcular el % de aciertos de cada individuo para todos los datos de entrenamiento. \n",
    "\n",
    "Para ver si un individuo acierta un dato se sigue el siguiente proceso:\n",
    "1. Comparamos el dato de entrenamiento con cada regla y nos quedamos con la clase de aquellas que se activan.\n",
    "2. Entre todas las reglas que se activan elegimos como predicción final la clase mayoritaria de entre todas las predichas.\n",
    "3. Una vez tenemos la predicción del individuo, comparamos esa predicción con la clase real del dato, si es la misma, el individuo acierta, en caso contrario no.\n",
    "\n",
    "Un pequeño apunte relativo a la activación de reglas, consideramos que una regla se activa o cumple cuando al menos uno de los atributos es igual que el dato de test, nos quedamos con la clase de la regla y así para cada regla del individuo, generando una predicción que posteriormente se compara con la clase del dato para ver si se acierta o no.\n",
    "\n",
    "#### 1.7. Clasificación\n",
    "La clasificación consiste en llevar a cabo el mismo proceso que en el cálculo del fitness pero en lugar de para toda la población, unicamente para el mejor individuo y cambiando los datos de la partición de entrenamiento por los de test.\n",
    "\n",
    "#### 1.8. Elitismo\n",
    "Esta es la última parte que falta para completar la generación de individuos para la siguiente generación. Para ello, elegimos los mejores individuos en función de la proporción de elitismo, definida al instancia el clasificador, más concretamente si el elitismo corresponde al 0,05 de 100 individuos, los 5 con mejor fitness pasaran directamente a la nueva población."
   ]
  },
  {
   "cell_type": "code",
   "execution_count": null,
   "metadata": {},
   "outputs": [],
   "source": []
  }
 ],
 "metadata": {
  "kernelspec": {
   "display_name": "Python 3",
   "language": "python",
   "name": "python3"
  },
  "language_info": {
   "codemirror_mode": {
    "name": "ipython",
    "version": 3
   },
   "file_extension": ".py",
   "mimetype": "text/x-python",
   "name": "python",
   "nbconvert_exporter": "python",
   "pygments_lexer": "ipython3",
   "version": "3.7.3"
  }
 },
 "nbformat": 4,
 "nbformat_minor": 2
}
