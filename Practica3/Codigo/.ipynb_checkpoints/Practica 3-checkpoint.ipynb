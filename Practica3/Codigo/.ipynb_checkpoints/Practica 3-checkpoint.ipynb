{
 "cells": [
  {
   "cell_type": "markdown",
   "metadata": {},
   "source": [
    "## Práctica 4 - ALGORITMOS GENÉTICOS\n",
    "#### Grupo 1461\n",
    "#### Pareja 01:\n",
    "- Pablo Díez\n",
    "- Alejandro Alcalá"
   ]
  },
  {
   "cell_type": "markdown",
   "metadata": {},
   "source": [
    "#### Apartado 1\n",
    "\n",
    "En este apartado vamos a remarcar las decisiones de diseño que se han tomado a la hora de realizar la práctica.\n",
    "\n",
    "#### 1.1. Reglas\n",
    "\n",
    "Para generar las reglas hemos utilizado codificación binaria. Lo más sencillo es explicar utilizando un ejemplo:\n",
    "\n",
    "                                            1 0 0 | 0 1 0 | 1\n",
    "\n",
    "En este ejemplo, se codifican, los <b>atributos</b>, donde el número de bits utilizado es igual al número de distintos valores que puede tomar ese atributo en el conjunto de datos, para el caso del ejemplo, ambos atributos pueden tomar 3 valores y en ese dato en concreto, el atributo 1 tomaría el 3er valor y el atributo 2 el 2º valor. \n",
    "\n",
    "En el caso de la clase, como siempre vamos a aplicar el Algoritmo Genético a problemas de clasificación binaria , utilizariamos un único bit, 0 predice una de las clases y 1 la otra.\n",
    "\n",
    "Para que fuese más sencillo comparar los datos con las reglas, transformamos todos los datos del dataset a esta codificación. A modo de ejemplo, el dato <b>1, 2, 0</b>, se convertirá en <b>0 1 0 | 1 0 0 | 0</b>.\n",
    "\n",
    "El número de reglas que contiene cada individuo del conjunto de datos puede elegirse a la hora de instancia la clase <b>ClasificadorAG</b>, por defecto está inicializado a 8, un valor ni muy grande ni muy pequeño, que hemos considerado adecuado, aunque, para problemas de clasificación en los que el espacio de atributos es muy grande, será necesario ampliarlo, como veremos a continuación.\n",
    "\n",
    "#### 1.2. Mecanismo de cruce\n",
    "\n",
    "En este caso, hemos implementado un mecanismo de cruce en un punto, que no permite cruzar entre reglas. Esto quiere decir que no podemos partir una regla y cruzar a partir de ahí, podremos partir entre la regla 1 y 2 y mover la parte de la derecha entre individuos.\n",
    "\n",
    "A modo de justificación del por qué hemos elegido esta forma, decir que nos parecía un mecanismo relativamente simple y suficiente como para obtener buenos resultados. \n",
    "\n",
    "\n",
    "#### 1.3. Mecanismo de mutación\n",
    "\n",
    "El mecanismo de mutación implementado ha sido la variación aleatoria de una regla. Por ejemplo, si tenemos un individuo con 4 reglas y la probabilidad de mutación de ese individuo es inferior al umbral definido, se generaría un número aleatorio desde 1 hasta el número de reglas y en esa regla se generaría una nueva regla completamente aleatoria. \n",
    "\n",
    "Sería similar a un bit-flip, que hemos estudiado en teoría, pero a nivel de regla, aleatorizando a nivel de regla en lugar de bit. \n",
    "\n",
    "#### 1.4. Mecanismo de clasificación\n",
    "\n",
    "Para clasificar, utilizamos el mejor individuo de la última generación del algoritmo. Ese individuo utilizará las reglas que lo componen para clasificar los ejemplos de la partición de test del conjunto de datos inicial."
   ]
  },
  {
   "cell_type": "code",
   "execution_count": null,
   "metadata": {},
   "outputs": [],
   "source": []
  }
 ],
 "metadata": {
  "kernelspec": {
   "display_name": "Python 3",
   "language": "python",
   "name": "python3"
  },
  "language_info": {
   "codemirror_mode": {
    "name": "ipython",
    "version": 3
   },
   "file_extension": ".py",
   "mimetype": "text/x-python",
   "name": "python",
   "nbconvert_exporter": "python",
   "pygments_lexer": "ipython3",
   "version": "3.7.4"
  }
 },
 "nbformat": 4,
 "nbformat_minor": 2
}
